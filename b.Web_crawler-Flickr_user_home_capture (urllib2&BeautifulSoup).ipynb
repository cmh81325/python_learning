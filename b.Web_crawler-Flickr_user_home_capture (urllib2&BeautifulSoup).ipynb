{
 "cells": [
  {
   "cell_type": "markdown",
   "metadata": {},
   "source": [
    "## ● Web crawler-Flickr home MingHsun\n",
    "### 依據 Flickr UserID Web Crawl 到 Flickr個人資訊網頁，擷取UserID\"家鄉\"與\"居住地\"資料\n",
    "### 模組:\n",
    "#### urlib2 \n",
    "#### BeautifulSoup"
   ]
  },
  {
   "cell_type": "code",
   "execution_count": 17,
   "metadata": {
    "collapsed": true,
    "scrolled": true
   },
   "outputs": [],
   "source": [
    "import csv\n",
    "uid_file=open(\"UserID.csv\",\"r\")\n",
    "# uid_file=open(\"try_uid.csv\",\"r\")\n",
    "data_dict={}\n",
    "for row in csv.reader(uid_file):\n",
    "#     print row[1]\n",
    "    if row[1] not in data_dict:\n",
    "        data_dict.setdefault(row[1],[])\n",
    "uid_file.close()"
   ]
  },
  {
   "cell_type": "code",
   "execution_count": 18,
   "metadata": {
    "collapsed": true
   },
   "outputs": [],
   "source": [
    "import flickrapi\n",
    "import simplejson as json\n",
    "import time\n",
    "import csv\n",
    "# global constants\n",
    "api_key = u'19d8657e49a7f6c41117843ddecaa8c2'\n",
    "api_secret = u'996e2f199f913380'\n",
    "flickr = flickrapi.FlickrAPI(api_key, api_secret)"
   ]
  },
  {
   "cell_type": "code",
   "execution_count": 19,
   "metadata": {
    "scrolled": true
   },
   "outputs": [
    {
     "name": "stdout",
     "output_type": "stream",
     "text": [
      "32762\n"
     ]
    }
   ],
   "source": [
    "print len(data_dict)"
   ]
  },
  {
   "cell_type": "code",
   "execution_count": 10,
   "metadata": {
    "collapsed": true
   },
   "outputs": [],
   "source": [
    "import re\n",
    "import urllib2\n",
    "from bs4 import BeautifulSoup\n",
    "for uid in data_dict:\n",
    "    try:\n",
    "        response = urllib2.urlopen('https://www.flickr.com/people/'+str(uid)+\"/\")\n",
    "        html = response.read()\n",
    "        soup = BeautifulSoup(html, \"html.parser\")\n",
    "        profile_section = soup.find('div', {'id': \"a-bit-more-about\"}) \n",
    "        soup2=BeautifulSoup(str(profile_section), \"html.parser\")\n",
    "        match_h=re.search('家鄉', str(profile_section))\n",
    "        if match_h:\n",
    "            home=soup2.find('dt',text='家鄉︰').findNext('dd').contents\n",
    "#             print home[0]\n",
    "            data_dict[uid].append(home[0])\n",
    "        else:\n",
    "            data_dict[uid].append(\"NoData\")\n",
    "        match_r=re.search('目前居住地', str(profile_section))\n",
    "        if match_r:\n",
    "            residence=soup2.find('dt',text='目前居住地：').findNext('dd').span.span.contents\n",
    "#             print residence[0]\n",
    "            data_dict[uid].append(residence[0])\n",
    "        else:\n",
    "            data_dict[uid].append(\"NoData\")\n",
    "    except:\n",
    "        continue"
   ]
  },
  {
   "cell_type": "code",
   "execution_count": 11,
   "metadata": {},
   "outputs": [
    {
     "name": "stdout",
     "output_type": "stream",
     "text": [
      "{'100028363@N02': ['NoData', 'NoData'], '10000800@N03': ['NoData', 'NoData'], '100004432@N04': ['NoData', 'NoData'], '100030370@N05': ['NoData', 'NoData'], '100004885@N05': ['NoData', 'NoData'], '100011529@N05': ['NoData', 'NoData'], '100013766@N03': ['NoData', 'NoData'], '100015994@N08': ['NoData', 'NoData'], '100018075@N02': ['NoData', 'NoData'], '100009241@N07': [u'\\u9cf3\\u5c71', u'\\u6797\\u5712, \\u53f0\\u7063']}\n"
     ]
    }
   ],
   "source": [
    "print data_dict"
   ]
  },
  {
   "cell_type": "code",
   "execution_count": 16,
   "metadata": {
    "collapsed": true
   },
   "outputs": [],
   "source": [
    "csv_list=[[\"uid\",\"home\",\"residence\"]]\n",
    "for uid in data_dict:\n",
    "    csv_list.append([str(uid),data_dict[uid][0].encode(\"utf8\"),data_dict[uid][1].encode(\"utf8\")])\n",
    "home_f=open(\"home_match.csv\",\"w\")\n",
    "w = csv.writer(home_f)  \n",
    "w.writerows(csv_list)  \n",
    "home_f.close()"
   ]
  }
 ],
 "metadata": {
  "kernelspec": {
   "display_name": "Python 3",
   "language": "python",
   "name": "python3"
  },
  "language_info": {
   "codemirror_mode": {
    "name": "ipython",
    "version": 3
   },
   "file_extension": ".py",
   "mimetype": "text/x-python",
   "name": "python",
   "nbconvert_exporter": "python",
   "pygments_lexer": "ipython3",
   "version": "3.6.1"
  }
 },
 "nbformat": 4,
 "nbformat_minor": 1
}
