{
 "cells": [
  {
   "cell_type": "markdown",
   "metadata": {},
   "source": [
    "## ● Instagram Place API MingHsun\n",
    "\n",
    "### GET/locations/search 設定經緯度搜尋地點資訊\n",
    "### GET/locations/location-id "
   ]
  },
  {
   "cell_type": "code",
   "execution_count": 1,
   "metadata": {
    "collapsed": true
   },
   "outputs": [],
   "source": [
    "import requests\n",
    "import json"
   ]
  },
  {
   "cell_type": "code",
   "execution_count": 4,
   "metadata": {
    "collapsed": true
   },
   "outputs": [],
   "source": [
    "token=\"471741784.9a9cd06.ac845225faed4b40a85bb794b3fa3d3e\""
   ]
  },
  {
   "cell_type": "markdown",
   "metadata": {},
   "source": [
    "GET/locations/search"
   ]
  },
  {
   "cell_type": "code",
   "execution_count": 3,
   "metadata": {},
   "outputs": [
    {
     "name": "stdout",
     "output_type": "stream",
     "text": [
      "20\n"
     ]
    }
   ],
   "source": [
    "res=requests.get(\"https://api.instagram.com/v1/locations/search?lat=25.052778&lng=121.520373&access_token=\"+token)\n",
    "placedata = json.loads(res.text)\n",
    "print len(placedata['data'])"
   ]
  },
  {
   "cell_type": "code",
   "execution_count": 19,
   "metadata": {},
   "outputs": [
    {
     "name": "stdout",
     "output_type": "stream",
     "text": [
      "{u'meta': {u'code': 200}, u'data': [{u'latitude': 25.052697222222, u'id': u'274885692', u'longitude': 121.52039722222, u'name': u'Zhongshan Station'}, {u'latitude': 25.05232, u'id': u'274117518', u'longitude': 121.52124, u'name': u'\\u65b0\\u5149\\u4e09\\u8d8a \\u53f0\\u5317\\u5357\\u897f\\u5e97'}, {u'latitude': 25.0333, u'id': u'214288771', u'longitude': 121.633, u'name': u'Taipei, Taiwan'}, {u'latitude': 25.05257, u'id': u'611111097', u'longitude': 121.51999, u'name': u'\\u99ac\\u8fa3\\u9802\\u7d1a\\u9ebb\\u8fa3\\u9d1b\\u9d26\\u706b\\u934b-\\u4e2d\\u5c71\\u5e97'}, {u'latitude': 25.052758942816, u'id': u'128968', u'longitude': 121.52046514131, u'name': u'Afternoon Tea \\u65b0\\u5149\\u4e09\\u8d8a\\u5357\\u897f\\u5e97'}, {u'latitude': 25.053, u'id': u'1002639093154973', u'longitude': 121.51942, u'name': u'iphone \\u7dad\\u4fee\\u4e2d\\u5fc3'}, {u'latitude': 25.052716177221, u'id': u'220670252', u'longitude': 121.52052874544, u'name': u'\\u6377\\u904b\\u4e2d\\u5c71\\u7ad9'}, {u'latitude': 25.053082078084, u'id': u'51726', u'longitude': 121.52093484061, u'name': u'Melange Cafe \\u7c73\\u6717\\u742a\\u5496\\u5561\\u9928'}, {u'latitude': 25.0511079, u'id': u'343902623', u'longitude': 121.518973, u'name': u'\\u5927\\u540c\\u793e\\u5340\\u5927\\u5b78'}, {u'latitude': 25.0527589, u'id': u'1413267852308099', u'longitude': 121.5202686, u'name': u'Adidas \\u5357\\u897f\\u9580\\u5e02 SP'}, {u'latitude': 25.05267, u'id': u'470705392', u'longitude': 121.52096, u'name': u'Aape Taipei-\\u65b0\\u5149\\u4e09\\u8d8a\\u5357\\u897f3\\u9928'}, {u'latitude': 25.053115599187, u'id': u'225350887', u'longitude': 121.52043993677, u'name': u'\\u4e7e\\u676f\\u71d2\\u8089\\u5c45\\u9152\\u5c4b\\uff08\\u53f0\\u5317\\u4e2d\\u5c71\\u5e97\\uff09'}, {u'latitude': 25.0524292, u'id': u'1023166242', u'longitude': 121.5206604, u'name': u'\\u3010\\u5730\\u6a19\\u3011\\u5927\\u5fc3 \\u53f0\\u5317\\u4e09\\u8d8a\\u5357\\u897f\\u5e97'}, {u'latitude': 25.052639160102, u'id': u'302708130', u'longitude': 121.52047823247, u'name': u'\\u53f0\\u5317\\u725b\\u4e73\\u5927\\u738b'}, {u'latitude': 25.052758119891, u'id': u'236179435', u'longitude': 121.52028846906, u'name': u'\\u65b0\\u6fdf\\u6d32\\u97d3\\u5f0f\\u8c46\\u8150\\u934b'}, {u'latitude': 25.052526809922, u'id': u'414914716', u'longitude': 121.52125163409, u'name': u'\\u9f0e\\u6cf0\\u8c50 \\u65b0\\u5149\\u4e09\\u8d8a\\u5357\\u897f\\u5e97'}, {u'latitude': 25.052625875848, u'id': u'247993370', u'longitude': 121.52068733071, u'name': u'\\u3010\\u5730\\u6a19\\u3011\\u74e6\\u57ce \\u53f0\\u5317\\u4e09\\u8d8a\\u5357\\u897f\\u5e97'}, {u'latitude': 25.053817124645, u'id': u'210411', u'longitude': 121.52023865917, u'name': u'\\u6377\\u904b\\u4e2d\\u5c71\\u7ad9\\u7dda\\u5f62\\u516c\\u5712'}, {u'latitude': 25.052807334028, u'id': u'299998548', u'longitude': 121.52035181765, u'name': u'\\u65b0\\u5149\\u5357\\u897f2\\u9928'}, {u'latitude': 25.053253490516, u'id': u'79027', u'longitude': 121.52038439641, u'name': u'Galerie Bistro'}]}\n"
     ]
    }
   ],
   "source": [
    "print placedata"
   ]
  },
  {
   "cell_type": "markdown",
   "metadata": {},
   "source": [
    "GET/locations/location-id"
   ]
  },
  {
   "cell_type": "code",
   "execution_count": null,
   "metadata": {
    "collapsed": true
   },
   "outputs": [],
   "source": [
    "https://api.instagram.com/v1/locations/{location-id}/media/recent?access_token=ACCESS-TOKEN"
   ]
  },
  {
   "cell_type": "code",
   "execution_count": 15,
   "metadata": {},
   "outputs": [
    {
     "name": "stdout",
     "output_type": "stream",
     "text": [
      "{u'pagination': {}, u'meta': {u'code': 200}, u'data': []}\n"
     ]
    }
   ],
   "source": [
    "res=requests.get(\"https://api.instagram.com/v1/locations/274885692/media/recent?access_token=\"+token)\n",
    "placedata1 = json.loads(res.text)\n",
    "print placedata1"
   ]
  }
 ],
 "metadata": {
  "kernelspec": {
   "display_name": "Python 3",
   "language": "python",
   "name": "python3"
  },
  "language_info": {
   "codemirror_mode": {
    "name": "ipython",
    "version": 3
   },
   "file_extension": ".py",
   "mimetype": "text/x-python",
   "name": "python",
   "nbconvert_exporter": "python",
   "pygments_lexer": "ipython3",
   "version": "3.6.1"
  }
 },
 "nbformat": 4,
 "nbformat_minor": 1
}
