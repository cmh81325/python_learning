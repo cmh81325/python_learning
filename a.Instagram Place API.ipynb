{
 "cells": [
  {
   "cell_type": "markdown",
   "metadata": {},
   "source": [
    "## ● Instagram Location API MingHsun 2017/02/05\n",
    "* instagram也可以獲得地點相關的資訊，其與Facebook的API較為相似，可能是因為都變成同一個老闆。\n",
    "\n",
    "> 1.GET/locations/search 設定經緯度搜尋地點資訊<br>\n",
    "  2.GET/locations/location-id <br>\n",
    "  3.GET/locations/location-id/media/recent\n",
    "  \n",
    "* Reference:https://www.instagram.com/developer/endpoints/locations/#get_locations_media_recent "
   ]
  },
  {
   "cell_type": "code",
   "execution_count": 2,
   "metadata": {
    "collapsed": true
   },
   "outputs": [],
   "source": [
    "import requests\n",
    "import json"
   ]
  },
  {
   "cell_type": "code",
   "execution_count": 7,
   "metadata": {
    "collapsed": true
   },
   "outputs": [],
   "source": [
    "token=\"471741784.9a9cd06.ac845225faed4b40a85bb794b3fa3d3e\""
   ]
  },
  {
   "cell_type": "markdown",
   "metadata": {},
   "source": [
    "## GET/locations/search\n",
    "* default的buffer範圍是500m，最高也只能到750m"
   ]
  },
  {
   "cell_type": "code",
   "execution_count": 9,
   "metadata": {},
   "outputs": [
    {
     "name": "stdout",
     "output_type": "stream",
     "text": [
      "20\n"
     ]
    }
   ],
   "source": [
    "res=requests.get(\"https://api.instagram.com/v1/locations/search?lat=25.052778&lng=121.520373&access_token=\"+token)\n",
    "placedata = json.loads(res.text)\n",
    "print (len(placedata['data']))"
   ]
  },
  {
   "cell_type": "code",
   "execution_count": 10,
   "metadata": {},
   "outputs": [
    {
     "name": "stdout",
     "output_type": "stream",
     "text": [
      "{'data': [{'id': '473416536336099', 'name': '誠品R79 Eslite Underground', 'latitude': 25.052760431423, 'longitude': 121.52042574838}, {'id': '378162155', 'name': '中山站', 'latitude': 25.052697222222, 'longitude': 121.52039722222}, {'id': '214288771', 'name': 'Taipei, Taiwan', 'latitude': 25.0333, 'longitude': 121.633}, {'id': '611111097', 'name': '馬辣頂級麻辣鴛鴦火鍋-中山店', 'latitude': 25.052632771442, 'longitude': 121.52027279672}, {'id': '274117518', 'name': '新光三越 台北南西店', 'latitude': 25.052493091376, 'longitude': 121.52090247783}, {'id': '1680721605566349', 'name': 'Rilakkuma Cha-Ya 拉拉熊茶屋', 'latitude': 25.05366, 'longitude': 121.52081}, {'id': '424040004620895', 'name': 'Miacucina（My kitchen）南西店', 'latitude': 25.05243, 'longitude': 121.52066}, {'id': '225350887', 'name': '乾杯燒肉居酒屋（台北中山店）', 'latitude': 25.053115599187, 'longitude': 121.52043993677}, {'id': '1413267852308099', 'name': 'Adidas 南西門市 SP', 'latitude': 25.0527589, 'longitude': 121.5202686}, {'id': '239985188', 'name': 'Mooi Hair Salon', 'latitude': 25.05275, 'longitude': 121.52058}, {'id': '51726', 'name': 'Melange Cafe 米朗琪咖啡館', 'latitude': 25.053082078084, 'longitude': 121.52093484061}, {'id': '6975307', 'name': '中山地下街', 'latitude': 25.055862434312, 'longitude': 121.52071597256}, {'id': '236179435', 'name': '新濟洲韓式豆腐鍋', 'latitude': 25.052758119891, 'longitude': 121.52028846906}, {'id': '79027', 'name': 'Galerie Bistro', 'latitude': 25.053253490516, 'longitude': 121.52038439641}, {'id': '358451003', 'name': '集客中山店', 'latitude': 25.05284284, 'longitude': 121.52019611}, {'id': '1170712243041086', 'name': 'Gb鮮釀餐廳南西店', 'latitude': 25.05267, 'longitude': 121.52096}, {'id': '412152320', 'name': 'Monteur 夢甜屋', 'latitude': 25.05305, 'longitude': 121.52106}, {'id': '130652290317658', 'name': '捷運中山站', 'latitude': 25.052792306924, 'longitude': 121.52061472571}, {'id': '1522813064669453', 'name': '鼎泰豐-南西店', 'latitude': 25.052491233913, 'longitude': 121.52121619478}, {'id': '276334726', 'name': 'ANTI  岸堤髮藝沙龍', 'latitude': 25.052964291957, 'longitude': 121.52030757508}], 'meta': {'code': 200}}\n"
     ]
    }
   ],
   "source": [
    "print (placedata)"
   ]
  },
  {
   "cell_type": "markdown",
   "metadata": {},
   "source": [
    "## GET/locations/location-id\n",
    "* 以捷運中山站為例"
   ]
  },
  {
   "cell_type": "code",
   "execution_count": 13,
   "metadata": {},
   "outputs": [
    {
     "name": "stdout",
     "output_type": "stream",
     "text": [
      "{'data': {'id': '130652290317658', 'name': '捷運中山站', 'latitude': 25.052792306924, 'longitude': 121.52061472571}, 'meta': {'code': 200}}\n"
     ]
    }
   ],
   "source": [
    "res=requests.get(\"https://api.instagram.com/v1/locations/130652290317658?access_token=\"+token)\n",
    "placedata1 = json.loads(res.text)\n",
    "print (placedata1)"
   ]
  },
  {
   "cell_type": "markdown",
   "metadata": {},
   "source": [
    "## GET/locations/location-id/media/recent\n",
    "* 上一個的小變化，獲取這個地點最近(recent)的一些媒體訊息"
   ]
  },
  {
   "cell_type": "code",
   "execution_count": 16,
   "metadata": {},
   "outputs": [
    {
     "name": "stdout",
     "output_type": "stream",
     "text": [
      "{'pagination': {}, 'data': [], 'meta': {'code': 200}}\n"
     ]
    }
   ],
   "source": [
    "res=requests.get(\"https://api.instagram.com/v1/locations/130652290317658/media/recent?access_token=\"+token)\n",
    "placedata1 = json.loads(res.text)\n",
    "print (placedata1)"
   ]
  }
 ],
 "metadata": {
  "kernelspec": {
   "display_name": "Python 3",
   "language": "python",
   "name": "python3"
  },
  "language_info": {
   "codemirror_mode": {
    "name": "ipython",
    "version": 3
   },
   "file_extension": ".py",
   "mimetype": "text/x-python",
   "name": "python",
   "nbconvert_exporter": "python",
   "pygments_lexer": "ipython3",
   "version": "3.6.1"
  }
 },
 "nbformat": 4,
 "nbformat_minor": 1
}
