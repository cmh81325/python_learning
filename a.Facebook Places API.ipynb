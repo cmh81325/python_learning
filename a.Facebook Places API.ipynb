{
 "cells": [
  {
   "cell_type": "markdown",
   "metadata": {},
   "source": [
    "## ● FB  Place API進行地點資料的擷取 Ming Hsun\n",
    "\n",
    "### 轉換fb圓形搜尋半徑，以矩形作為資料蒐尋空間範圍"
   ]
  },
  {
   "cell_type": "code",
   "execution_count": null,
   "metadata": {
    "collapsed": true
   },
   "outputs": [],
   "source": [
    "#主要使用的模組\n",
    "import requests\n",
    "import json\n",
    "import csv"
   ]
  },
  {
   "cell_type": "code",
   "execution_count": null,
   "metadata": {
    "collapsed": true
   },
   "outputs": [],
   "source": [
    "#設定搜尋半徑\n",
    "import math\n",
    "radius=200\n",
    "r=math.sqrt((radius**2)/2)\n",
    "r"
   ]
  },
  {
   "cell_type": "code",
   "execution_count": null,
   "metadata": {
    "collapsed": true
   },
   "outputs": [],
   "source": [
    "#給定空間範圍左上、左下、右下座標值\n",
    "lefup=[24.184761, 120.642457]\n",
    "lefdown=[24.174197, 120.643269]\n",
    "rightup=[24.184290, 120.647805]"
   ]
  },
  {
   "cell_type": "code",
   "execution_count": null,
   "metadata": {
    "collapsed": true
   },
   "outputs": [],
   "source": [
    "#在給定的座標範圍內，計算每一搜尋半徑200公尺的座標\n",
    "lefup_lat=lefup[0]\n",
    "lefdown_lat=lefdown[0]\n",
    "m_lat_1deg=110574\n",
    "dif_lat=1*(r/m_lat_1deg)\n",
    "coordinate={}\n",
    "temp_lat=lefup_lat\n",
    "print dif_lat\n",
    "while(temp_lat>lefdown_lat):\n",
    "    coordinate.setdefault(temp_lat,[])\n",
    "    temp_lat=temp_lat-dif_lat*2"
   ]
  },
  {
   "cell_type": "code",
   "execution_count": null,
   "metadata": {
    "collapsed": true
   },
   "outputs": [],
   "source": [
    "#將各個搜尋中心座標值存出為CSV檔\n",
    "coor_list=[[\"x\",\"y\"]]\n",
    "for lat in coordinate:\n",
    "    for lng in coordinate[lat]:\n",
    "        coor_list.append([lng,lat])\n",
    "f=open(\"center.csv\",\"w\")\n",
    "w = csv.writer(f) \n",
    "w.writerows(coor_list)\n",
    "f.close()  "
   ]
  },
  {
   "cell_type": "code",
   "execution_count": null,
   "metadata": {
    "collapsed": true
   },
   "outputs": [],
   "source": [
    "for a in coordinate:\n",
    "    print len(coordinate[a]),\n",
    "#     print a,coordinate[a][0],coordinate[a][-1]\n",
    "print len(coordinate)"
   ]
  },
  {
   "cell_type": "code",
   "execution_count": null,
   "metadata": {
    "collapsed": true
   },
   "outputs": [],
   "source": [
    "#FB token\n",
    "token=\"EAACEdEose0cBALd3eoUBQmoBOgZBtwe7y0Ob4ZA6hxi91ZCMdCiQVmrNJ98K8TxYIoNVyVUjJOv1YJknsQn86SaV6cuyINASJ8ott7z1r156wJkev8yWNk3JXRqOumTGrjTh8Grpc5ZBKP5KnaZBlMftMcoTH9DXV7ZAjD2qYEgWDOuZAIHjXp20FDcfordeVsZD\""
   ]
  },
  {
   "cell_type": "code",
   "execution_count": null,
   "metadata": {
    "collapsed": true
   },
   "outputs": [],
   "source": [
    "placeinfo_list=[[\"place_id\",\"name\",\"x\",\"y\",\"checkins\",\"street\",\"phone\",\"link\",\"category\",\"category_id\",]]\n",
    "for cor_lat in coordinate:\n",
    "    lat=cor_lat\n",
    "    for cor_lng in coordinate[cor_lat]:\n",
    "        lng=cor_lng\n",
    "        res=requests.get(\"https://graph.facebook.com/v2.9/search?type=place&center=\"+str(lat)+\",\"+str(lng)+\"&distance=\"+str(distance)+\"&fields=\"+str(fields)+\"&access_token=\"+token)\n",
    "        placedata = json.loads(res.text)\n",
    "        paging_count=0\n",
    "        place_count=0\n",
    "        while \"paging\" in placedata and 'next' in placedata['paging']:\n",
    "            paging_count+=1\n",
    "            place_count+=len(placedata['data'])\n",
    "            for p in placedata[\"data\"]:\n",
    "                place_id=p[\"id\"]\n",
    "                place_name=p[\"name\"].encode(\"utf8\")\n",
    "                x=p[\"location\"][\"longitude\"]\n",
    "                y=p[\"location\"][\"latitude\"]\n",
    "                checkins=p[\"checkins\"]\n",
    "                try:\n",
    "                    street=p[\"location\"][\"street\"].encode(\"utf8\")\n",
    "                except:\n",
    "                    street=\"\"\n",
    "                try:\n",
    "                    phone=p[\"phone\"].encode(\"utf8\")\n",
    "                except:\n",
    "                    phone=\"\"\n",
    "                try:\n",
    "                    link=p[\"link\"].encode(\"utf8\")\n",
    "                except:\n",
    "                    link=\"\"\n",
    "                try:\n",
    "                    category=[]\n",
    "                    category_id=[]\n",
    "                    for cat in p['category_list']:\n",
    "                        category.append(cat[\"name\"].encode(\"utf8\"))\n",
    "                        category_id.append(cat[\"id\"])\n",
    "                except:\n",
    "                    category=\"\"\n",
    "                placeinfo_list.append([place_id,place_name,x,y,checkins,street,phone,link,category,category_id])\n",
    "            n_ext=placedata['paging']['next']\n",
    "            res=requests.get(n_ext)\n",
    "            placedata = json.loads(res.text)\n",
    "#         print \"總頁數:\",paging_count,\n",
    "#         print \"Place 總數:\",place_count,\n",
    "        print lng,lat,place_count\n",
    "    time.sleep(120)\n",
    "    print\"------------------------------------------\"\n",
    "# f=open(str(lat)+\"_\"+str(lng)+\"places.csv\",\"w\")\n",
    "f=open(\"118fb_places.csv\",\"w\")\n",
    "w = csv.writer(f) \n",
    "w.writerows(placeinfo_list)\n",
    "f.close()   "
   ]
  }
 ],
 "metadata": {
  "kernelspec": {
   "display_name": "Python 3",
   "language": "python",
   "name": "python3"
  },
  "language_info": {
   "codemirror_mode": {
    "name": "ipython",
    "version": 3
   },
   "file_extension": ".py",
   "mimetype": "text/x-python",
   "name": "python",
   "nbconvert_exporter": "python",
   "pygments_lexer": "ipython3",
   "version": "3.6.1"
  }
 },
 "nbformat": 4,
 "nbformat_minor": 1
}
