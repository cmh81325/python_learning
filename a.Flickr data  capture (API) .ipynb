{
 "cells": [
  {
   "cell_type": "markdown",
   "metadata": {},
   "source": [
    "## ● 使用Flicke photo search API 資料擷取 Ming Hsun 2015/12/05\n",
    "* Flickr為網路照片分享平台的性質與Facebook、Twitter等平台之使用者有不同的使用習性，在此平台可以取得許多網路照片，相對於其他的社群媒體平台，FLickr相對而言，較為開放，使用者有較高的權限，輕鬆的取得許多資料。\n",
    ">1.在App Gardan進行申請<br>\n",
    "2.申請 Key<br>\n",
    "3.接收 Key ID 和密鑰。<br>\n",
    "4.使用可用 API 方式的清單開始建立你的應用程式。<br>\n",
    "\n",
    "\n",
    "* FlickrAPI在各類程式語言中有不同的module可以使用，Python的MODULE為 \"flickrapi\"，然而各程式語言之。\n",
    "* 以下使用flickr.photos.search來進行實作。\n"
   ]
  },
  {
   "cell_type": "markdown",
   "metadata": {},
   "source": [
    "## flickr_photos.search\n",
    "* 此API可以在設定的criteria之下回傳照片，而其中包含拍照時間、上傳時間、是否具有geotag、tag為何等條件。\n",
    "* 而在此api之中也可以透過地理空間範圍進行照片的蒐集，而此參數Flickr稱之為bbox。\n",
    "* bbox可以想像，就是一個box，Flickr相對於其他的社群媒體在地理空間上的搜尋一般皆為buffer的圓形搜尋方式，Flickr讓使用者在bbox之中設定四個角的經緯度，以去進行此空間範圍內的資料蒐尋。\n",
    "* Reference:https://www.flickr.com/services/api/flickr.photos.search.html"
   ]
  },
  {
   "cell_type": "markdown",
   "metadata": {},
   "source": [
    "## 實作-抓取2005年 台北市範圍內包含geotag的照片資料\n",
    "* flickr.photos.search(bbox=_bbox,per_page =\"200\",min_taken_date=_t+\"-01-01\",max_taken_date=_t+\"-12-31\",has_geo=1,extras='owner_name, geo, date_taken, tags',format=\"json\")\n",
    "* 透過上列之語法了解我們在flickr.photos.search中所設置的條件為:<br>\n",
    "> 1.設定空間範圍(台北市)<br> \n",
    "  2.設定拍照時間(2005)<br>\n",
    "  3.要包含geotag的相片)<br>\n",
    "  4.我們要的欄位包含，photo的擁有者id、照片座標、拍照時間、照片的tags"
   ]
  },
  {
   "cell_type": "code",
   "execution_count": 1,
   "metadata": {
    "collapsed": true
   },
   "outputs": [],
   "source": [
    "import warnings\n",
    "warnings.filterwarnings('ignore')"
   ]
  },
  {
   "cell_type": "code",
   "execution_count": 2,
   "metadata": {
    "collapsed": true
   },
   "outputs": [],
   "source": [
    "import flickrapi\n",
    "import simplejson as json\n",
    "import time\n",
    "import csv\n",
    "# global constants\n",
    "api_key = u'19d8657e49a7f6c41117843ddecaa8c2'\n",
    "api_secret = u'996e2f199f913380'\n",
    "flickr = flickrapi.FlickrAPI(api_key, api_secret)"
   ]
  },
  {
   "cell_type": "markdown",
   "metadata": {},
   "source": [
    "### 首先定義兩個function \n",
    "* function 1.確認條件之下回傳資料數量\n",
    "* function 2.抓此範圍內之資料"
   ]
  },
  {
   "cell_type": "markdown",
   "metadata": {},
   "source": [
    "## 1.定義函數-確認資料數量"
   ]
  },
  {
   "cell_type": "code",
   "execution_count": 5,
   "metadata": {
    "collapsed": true
   },
   "outputs": [],
   "source": [
    "def check(lx,ly,ux,uy,year):\n",
    "    l_x=lx\n",
    "    _l_x=str(l_x)\n",
    "    l_y=ly\n",
    "    _l_y=str(l_y)\n",
    "    u_x=ux\n",
    "    _u_x=str(u_x)\n",
    "    u_y=uy\n",
    "    _u_y=str(u_y)\n",
    "    t=year\n",
    "    _t=str(t)\n",
    "    _bbox=str(_l_x+\",\"+_l_y+\",\"+_u_x+\",\"+_u_y)\n",
    "    response = flickr.photos.search(bbox=_bbox,per_page =\"200\",min_taken_date=_t+\"-01-01\",max_taken_date=_t+\"-12-31\",has_geo=1,extras='owner_name, geo, date_taken, tags',format=\"json\")\n",
    "    data = json.loads(response.decode('utf-8'))\n",
    "    u=int(data[\"photos\"][\"total\"])\n",
    "    print (u)"
   ]
  },
  {
   "cell_type": "code",
   "execution_count": 7,
   "metadata": {},
   "outputs": [
    {
     "name": "stdout",
     "output_type": "stream",
     "text": [
      "30621\n"
     ]
    }
   ],
   "source": [
    "check(121.454,24.957,121.670,25.213,2005)"
   ]
  },
  {
   "cell_type": "markdown",
   "metadata": {},
   "source": [
    "## 2.定義函數-抓資料\n"
   ]
  },
  {
   "cell_type": "code",
   "execution_count": 10,
   "metadata": {
    "collapsed": true
   },
   "outputs": [],
   "source": [
    "def mining(lx,ly,ux,uy,year):\n",
    "    l_x=lx\n",
    "    _l_x=str(l_x)\n",
    "    l_y=ly\n",
    "    _l_y=str(l_y)\n",
    "    u_x=ux\n",
    "    _u_x=str(u_x)\n",
    "    u_y=uy\n",
    "    _u_y=str(u_y)\n",
    "    t=year\n",
    "    _t=str(t)\n",
    "    _bbox=str(_l_x+\",\"+_l_y+\",\"+_u_x+\",\"+_u_y)\n",
    "    #確定範圍是否>4000\n",
    "    time.sleep(1)\n",
    "    response = flickr.photos.search(bbox=_bbox,per_page =\"200\",min_taken_date=_t+\"-01-01\",max_taken_date=_t+\"-12-31\",has_geo=1,extras='owner_name, geo, date_taken, tags',format=\"json\")\n",
    "    data = json.loads(response.decode('utf-8'))\n",
    "    pages=int(data[\"photos\"][\"pages\"])\n",
    "    u=int(data[\"photos\"][\"total\"])\n",
    "    try:\n",
    "        if u>3999:\n",
    "            #切成四格\n",
    "            x_leng=u_x-l_x\n",
    "            y_leng=u_y-l_y\n",
    "            x_half=x_leng/2\n",
    "            y_half=y_leng/2\n",
    "            #判斷經緯度\n",
    "            if x_leng>0.0001and y_leng>0.0001:\n",
    "                one_x=l_x;one_y=l_y\n",
    "                two_x=l_x+x_half;two_y=l_y\n",
    "                three_x=l_x;three_y=l_y+y_half\n",
    "                four_x=l_x+x_half;four_y=l_y+y_half\n",
    "                five_x=four_x+x_half;five_y=four_y\n",
    "                six_x=four_x;six_y=four_y+y_half\n",
    "                seven_x=four_x+x_half;seven_y=four_y+y_half\n",
    "                mining(one_x,one_y,four_x,four_y,t);mining(two_x,two_y,five_x,five_y,t);mining(three_x,three_y,six_x,six_y,t);mining(four_x,four_y,seven_x,seven_y,t)\n",
    "            else:\n",
    "                bbox_list.append(_bbox)\n",
    "\n",
    "        else:\n",
    "            #執行抓取\n",
    "            photo_list=[[\"photoID\",\"userID\",\"onername\",\"taken_time\",\"latitude\",\"longitude\",\"tags\"]]\n",
    "            for i in range(1,pages+1):\n",
    "                _page=str(i)\n",
    "                response = flickr.photos.search(bbox=_bbox,page=_page,per_page =\"200\",min_taken_date=_t+\"-01-01\",max_taken_date=_t+\"-12-31\",has_geo=1,extras='owner_name, geo, date_taken, tags',format=\"json\")\n",
    "                data = json.loads(response)\n",
    "                for aa in data[\"photos\"][\"photo\"]:\n",
    "                    photo_list.append([aa['id'],aa[\"owner\"],aa[\"ownername\"].encode(\"utf8\"),aa[\"datetaken\"],aa['latitude'],aa['longitude'],aa[\"tags\"].encode(\"utf8\")])\n",
    "                    t_l_check.append(str(aa[\"datetaken\"])+str(aa['latitude'])+str(aa['longitude']))\n",
    "                    idcheck.append(aa['id'])\n",
    "                w = csv.writer(f)  \n",
    "                w.writerows(photo_list)  \n",
    "                all_list.append(photo_list)\n",
    "                print (\"目前抓到\",len(idcheck))\n",
    "                photo_list=[]\n",
    "                time.sleep(1)\n",
    "    except:\n",
    "        error_bbox_list.append(_bbox)\n",
    "        print (\"error\")      "
   ]
  },
  {
   "cell_type": "markdown",
   "metadata": {},
   "source": [
    "## 實際抓取2005年 台北市範圍內包含geotag的照片資料\n",
    "### 回顧:\n",
    "* Q:為何上面要先定義兩個function?為了方便使用?\n",
    "* A:由於Flickr有限制，在空間範圍內的照片小於4000筆才可以進行資料抓取。若回顧function mining可以發現其中一直在對於空間座標進行轉換，並且確認資料到達可以抓的程度。"
   ]
  },
  {
   "cell_type": "code",
   "execution_count": 11,
   "metadata": {
    "collapsed": true
   },
   "outputs": [],
   "source": [
    "# 選擇要抓取的年份\n",
    "# year_list=[2001,2002,2003,2004,2005,2006,2007,2008,2009,2010,2011,2012,2013,2014,2015]\n",
    "year_list=[2005]"
   ]
  },
  {
   "cell_type": "code",
   "execution_count": 12,
   "metadata": {},
   "outputs": [
    {
     "name": "stdout",
     "output_type": "stream",
     "text": [
      "30621\n"
     ]
    }
   ],
   "source": [
    "for s_year in year_list:\n",
    "    #設定年度\n",
    "    year=s_year\n",
    "    #確認資料此年度之總數 (空間範圍台北市)\n",
    "    check(121.454,24.957,121.670,25.213,year)"
   ]
  },
  {
   "cell_type": "code",
   "execution_count": 15,
   "metadata": {},
   "outputs": [
    {
     "name": "stdout",
     "output_type": "stream",
     "text": [
      "2005\n",
      "30621\n",
      "目前抓到 157\n",
      "目前抓到 357\n",
      "目前抓到 557\n",
      "目前抓到 757\n",
      "目前抓到 957\n",
      "目前抓到 1157\n",
      "目前抓到 1214\n",
      "目前抓到 1414\n",
      "目前抓到 1514\n",
      "目前抓到 1688\n",
      "目前抓到 1888\n",
      "目前抓到 2088\n",
      "目前抓到 2288\n",
      "目前抓到 2488\n",
      "目前抓到 2688\n",
      "目前抓到 2888\n",
      "目前抓到 3088\n",
      "目前抓到 3288\n",
      "目前抓到 3488\n",
      "目前抓到 3688\n",
      "目前抓到 3888\n",
      "目前抓到 4088\n",
      "目前抓到 4288\n",
      "目前抓到 4322\n",
      "目前抓到 4522\n",
      "目前抓到 4722\n",
      "目前抓到 4922\n",
      "目前抓到 5122\n",
      "目前抓到 5322\n",
      "目前抓到 5522\n",
      "目前抓到 5664\n",
      "目前抓到 5864\n",
      "目前抓到 6062\n",
      "目前抓到 6091\n",
      "目前抓到 6092\n",
      "目前抓到 6176\n",
      "目前抓到 6376\n",
      "目前抓到 6574\n",
      "目前抓到 6620\n",
      "目前抓到 6666\n",
      "目前抓到 6866\n",
      "目前抓到 7066\n",
      "目前抓到 7121\n",
      "目前抓到 7261\n",
      "目前抓到 7461\n",
      "目前抓到 7661\n",
      "目前抓到 7861\n",
      "目前抓到 8060\n",
      "目前抓到 8260\n",
      "目前抓到 8460\n",
      "目前抓到 8617\n",
      "目前抓到 8817\n",
      "目前抓到 9017\n",
      "目前抓到 9217\n",
      "目前抓到 9249\n",
      "目前抓到 9378\n",
      "目前抓到 9403\n",
      "目前抓到 9417\n",
      "目前抓到 9427\n",
      "目前抓到 9627\n",
      "目前抓到 9686\n",
      "目前抓到 9886\n",
      "目前抓到 10086\n",
      "目前抓到 10286\n",
      "目前抓到 10486\n",
      "目前抓到 10686\n",
      "目前抓到 10886\n",
      "目前抓到 11086\n",
      "目前抓到 11286\n",
      "目前抓到 11486\n",
      "目前抓到 11686\n",
      "目前抓到 11814\n",
      "目前抓到 11815\n",
      "目前抓到 11817\n",
      "目前抓到 11828\n",
      "目前抓到 11830\n",
      "目前抓到 11869\n",
      "目前抓到 11883\n",
      "目前抓到 12027\n",
      "目前抓到 12058\n",
      "目前抓到 12071\n",
      "目前抓到 12271\n",
      "目前抓到 12469\n",
      "目前抓到 12669\n",
      "目前抓到 12785\n",
      "目前抓到 12801\n",
      "目前抓到 13001\n",
      "目前抓到 13201\n",
      "目前抓到 13292\n",
      "目前抓到 13482\n",
      "ID總數: 13482 不重複ID總數: 13473\n",
      "ID總數相差: 9\n",
      "時間+地點總數: 13482 不同時間或不同地點總數: 13379\n",
      "時間+地點相差: 103\n"
     ]
    }
   ],
   "source": [
    "for s_year in year_list:\n",
    "    #設定年度\n",
    "    year=s_year\n",
    "    print (year)\n",
    "    #確認資料此年度之總數\n",
    "    check(121.454,24.957,121.670,25.213,year)\n",
    "    #宣告list\n",
    "    idcheck=[]\n",
    "    t_l_check=[]\n",
    "    all_list=[]\n",
    "    bbox_list=[]\n",
    "    error_bbox_list=[]\n",
    "    f = open(str(year)+\".csv\",\"w\") \n",
    "#     print (time.strftime(\"%H:%M:%S\"))\n",
    "    mining(121.454,24.957,121.670,25.213,year)\n",
    "    f.close()\n",
    "#     print (time.strftime(\"%H:%M:%S\"))\n",
    "    print (\"ID總數:\",len(idcheck),\"不重複ID總數:\",len(set(idcheck)))\n",
    "    print (\"ID總數相差:\",len(idcheck)-len(set(idcheck)))\n",
    "    print (\"時間+地點總數:\",len(t_l_check),\"不同時間或不同地點總數:\",len(set(t_l_check)))\n",
    "    print (\"時間+地點相差:\",len(t_l_check)-len(set(t_l_check)))\n",
    "    \n",
    "    time.sleep(10)"
   ]
  },
  {
   "cell_type": "markdown",
   "metadata": {},
   "source": [
    "## 紀錄產生錯誤的空間範圍"
   ]
  },
  {
   "cell_type": "code",
   "execution_count": 18,
   "metadata": {},
   "outputs": [
    {
     "name": "stdout",
     "output_type": "stream",
     "text": [
      "error_area []\n",
      "need time split ['121.535,25.021874999999998,121.535052734375,25.0219375', '121.56600781249999,25.035312499999996,121.56606054687498,25.035374999999995']\n"
     ]
    }
   ],
   "source": [
    "print (\"error_area\",error_bbox_list)\n",
    "print (\"need time split\",bbox_list)"
   ]
  },
  {
   "cell_type": "code",
   "execution_count": 19,
   "metadata": {
    "collapsed": true
   },
   "outputs": [],
   "source": [
    "time_split=[[\"neendtimesplit_error\"]]\n",
    "error_list=[[\"error_bbox\"]]\n",
    "for a in bbox_list:\n",
    "    b=a.split(\",\")\n",
    "    time_split.append(b)\n",
    "for c in  error_bbox_list:\n",
    "    d=c.split(\",\")\n",
    "    error_list.append(d)\n",
    "f_error = open(str(year)+\"_error.csv\",\"w\")\n",
    "w_error = csv.writer(f_error)  \n",
    "w_error.writerows(time_split)\n",
    "w_error.writerows(error_list)\n",
    "f_error.close()"
   ]
  }
 ],
 "metadata": {
  "kernelspec": {
   "display_name": "Python 3",
   "language": "python",
   "name": "python3"
  },
  "language_info": {
   "codemirror_mode": {
    "name": "ipython",
    "version": 3
   },
   "file_extension": ".py",
   "mimetype": "text/x-python",
   "name": "python",
   "nbconvert_exporter": "python",
   "pygments_lexer": "ipython3",
   "version": "3.6.1"
  }
 },
 "nbformat": 4,
 "nbformat_minor": 1
}
