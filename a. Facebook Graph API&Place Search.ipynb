{
 "cells": [
  {
   "cell_type": "markdown",
   "metadata": {},
   "source": [
    "## ● Facebook Graph API&Place Search 進行地點資料的擷取 Ming Hsun 2016/10/09\n",
    "\n",
    "* Graph API 是在 Facebook 平台存取和輸出資料的主要方式，其主要讓使用者可以用程式設計的方式以進行Facebook中的功能操作，例如查詢資料、發布動態等、上傳相片等，其主要的概念就跟我們的社交關係一樣，我們可以把他想像成一個網絡圖(Network)，不論是用戶、粉絲專業、留言等都是一個節點，而所有的這些節點(事物)之間，都是具有連結性的，例如:\"粉絲專頁\"的\"相片\" 或 \"相片\"的\"留言\"，而這些事物的內容會有些資訊，例如:粉絲專業的名稱，使用者的居住地、使用者的生日等。\n",
    "* Graph API 是透過HTTP來進行資料傳輸，因此在Python之中，一般而言，只需要透過requests此模組，就能夠擷取Graph API的資料內容。\n",
    "\n",
    "> 節點 ─ 基本的「事物」，例如用戶、相片、粉絲專頁、留言等 (每一個節點都有ID)<br />\n",
    "  關係 ─ 這些「事物」之間的連結，像是粉絲專頁的相片，或是相片的留言<br />\n",
    "  欄位 ─ 這些「事物」的資訊，像是用戶的生日，或是粉絲專頁名稱\n",
    "\n",
    "* 而在Graph API中使用HTTP的主要動作上則包含 GET/POST/DELETE三種。\n",
    "* 好，上述為Graph API的基本概念，而以下使用Place此API作為範例。\n",
    "\n",
    "* Reference:https://developers.facebook.com/docs/graph-api/reference/\n"
   ]
  },
  {
   "cell_type": "markdown",
   "metadata": {},
   "source": [
    "## 節點\n",
    "* me是個特殊的節點，就是查詢[我]自己"
   ]
  },
  {
   "cell_type": "code",
   "execution_count": 39,
   "metadata": {},
   "outputs": [
    {
     "name": "stdout",
     "output_type": "stream",
     "text": [
      "{'name': '陳明勳', 'id': '810841585615793'}\n"
     ]
    }
   ],
   "source": [
    "import requests\n",
    "import json\n",
    "import csv\n",
    "res=requests.get(\"https://graph.facebook.com/v2.10/me?access_token=EAACEdEose0cBAD01krkO4fRq7hzG1ROOYWvkGUvF97YwZBZCcGNqhqsRsFH8qdgq9yR4BxXlkpiwLXiTNyEnhu0C9c67bMHTCwIPqDZAYIJRm2ZAFxzPSwM9tC1tqxs7cjy6qgVuRvLf95nSgZCOp5FNzMwPQFQTDnRyaPIdvIBHoiPKwFY6bdnZBVyAZAD8ZAqVncl54bJqEwZDZD\")\n",
    "data = json.loads(res.text)\n",
    "print (data)"
   ]
  },
  {
   "cell_type": "markdown",
   "metadata": {},
   "source": [
    "## 關係\n",
    "* 查詢[我]的[相片]"
   ]
  },
  {
   "cell_type": "code",
   "execution_count": 35,
   "metadata": {},
   "outputs": [
    {
     "name": "stdout",
     "output_type": "stream",
     "text": [
      "{'data': [{'created_time': '2016-12-22T15:59:06+0000', 'id': '1205011169553690'}, {'created_time': '2016-08-27T06:47:14+0000', 'id': '1361911173838136'}, {'created_time': '2016-08-27T06:47:15+0000', 'id': '1361911200504800'}, {'created_time': '2016-06-05T04:20:29+0000', 'name': '身為優秀的銷售人員，進修是必需的。我想這個秘密就不要再隱藏了。今天我終於畢業了，我媽都說要多點書，長大就不用去賣車。算了，有爽到就好。～～～陳明勳老弟恭喜你畢業啦！', 'id': '1171899872828337'}, {'created_time': '2015-05-19T06:00:30+0000', 'id': '839668429421301'}, {'created_time': '2014-07-24T08:59:50+0000', 'id': '877553328940592'}, {'created_time': '2014-07-24T08:59:50+0000', 'id': '877552528940672'}, {'created_time': '2014-07-24T08:59:50+0000', 'id': '877551492274109'}, {'created_time': '2014-07-24T08:59:50+0000', 'id': '877551432274115'}, {'created_time': '2014-06-25T15:44:11+0000', 'id': '817317404968192'}, {'created_time': '2014-06-23T16:04:21+0000', 'name': '陳明勳學長 畢業快樂啦XD\\n我們家一直走一個怪怪的路線 尤其是張宇靖最怪ㄏㄏ 家聚的時候都因此很歡樂XD\\n還記得剛進來的時候 我一直都遇不到你QQ\\n不過常常都會問我的近況 給我很多幫助\\n一轉眼三年過去了 感謝你一直以來的照顧啦=)\\n不管之後當兵 還是未來要讀研究所都加油吧!!', 'id': '681374608582265'}, {'created_time': '2014-06-23T16:04:21+0000', 'id': '681374598582266'}, {'created_time': '2014-06-18T15:31:16+0000', 'id': '677893728932492'}, {'created_time': '2014-06-17T05:26:06+0000', 'id': '726519427386429'}, {'created_time': '2014-06-15T12:38:12+0000', 'id': '677239248995801'}, {'created_time': '2014-06-15T12:37:10+0000', 'id': '677238368995889'}, {'created_time': '2014-06-15T12:37:04+0000', 'id': '677238328995893'}, {'created_time': '2014-06-15T12:36:49+0000', 'id': '677238098995916'}, {'created_time': '2014-06-15T12:36:46+0000', 'id': '677238052329254'}, {'created_time': '2014-06-15T12:36:43+0000', 'id': '677238018995924'}, {'created_time': '2014-06-15T12:36:38+0000', 'id': '677237975662595'}, {'created_time': '2014-06-15T12:35:24+0000', 'id': '677236952329364'}, {'created_time': '2014-06-15T12:35:20+0000', 'id': '677236895662703'}, {'created_time': '2014-06-15T12:32:24+0000', 'id': '677234428996283'}, {'created_time': '2014-06-15T12:32:21+0000', 'id': '677234398996286'}], 'paging': {'cursors': {'before': 'TVRJd05UQXhNVEUyT1RVMU16WTVNRG94TkRneU5ESXlNelEzT2pNNU5EQTRPVFkwTURZAME56ZA3pOZAz09', 'after': 'TmpjM01qTTBNems0T1RrMk1qZAzJPakUwTURJNE16WTJOREk2TXprME1EZAzVOalF3TmpRM09ETTIZD'}, 'next': 'https://graph.facebook.com/v2.10/810841585615793/photos?access_token=EAACEdEose0cBAOY96RzApSjxUriaasyuNehSBvxxTakDxL9ZB73FPXqrZAaJamPgW0qQwMUNYd7o07ztWaecxdgJWH5Af1XdBIGH8pZASC2ovsy6kB3wmHZAsQ2Xy0QLhbAIG4VAvH7lL7eqcceFJXHHLe4NBkLHZBb2VGZAP5DS91OZBk3OkDJcWq040vZBsUkmEILHYemNHwZDZD&limit=25&after=TmpjM01qTTBNems0T1RrMk1qZAzJPakUwTURJNE16WTJOREk2TXprME1EZAzVOalF3TmpRM09ETTIZD'}}\n"
     ]
    }
   ],
   "source": [
    "import requests\n",
    "import json\n",
    "import csv\n",
    "res=requests.get(\"https://graph.facebook.com/v2.10/me/photos?access_token=EAACEdEose0cBAOY96RzApSjxUriaasyuNehSBvxxTakDxL9ZB73FPXqrZAaJamPgW0qQwMUNYd7o07ztWaecxdgJWH5Af1XdBIGH8pZASC2ovsy6kB3wmHZAsQ2Xy0QLhbAIG4VAvH7lL7eqcceFJXHHLe4NBkLHZBb2VGZAP5DS91OZBk3OkDJcWq040vZBsUkmEILHYemNHwZDZD\")\n",
    "placedata = json.loads(res.text)\n",
    "print (placedata)"
   ]
  },
  {
   "cell_type": "markdown",
   "metadata": {},
   "source": [
    "## 欄位\n",
    "* 查詢[我]的[email]此欄位資訊"
   ]
  },
  {
   "cell_type": "code",
   "execution_count": 43,
   "metadata": {},
   "outputs": [
    {
     "name": "stdout",
     "output_type": "stream",
     "text": [
      "{'email': 'mh81325@hotmail.com', 'id': '810841585615793'}\n"
     ]
    }
   ],
   "source": [
    "import requests\n",
    "import json\n",
    "import csv\n",
    "res=requests.get( \"https://graph.facebook.com/v2.10/me?fields=email&access_token=EAACEdEose0cBAN2f0QWed52gjYZB5QzdlFEPkr7nmZAGBDZCW8BsaCzaEsTEZA508UlqFxkgoVCN8NZABqCHS9zqtSeV4SAybMTOlU0CZBFId2YIgvBNWrl9X6lus2xN7YyplAXeHGYDdIgnRno1YcXGagH2Pjc8lMOktBKZA13iVIiwAuEbuHZALjVK6HmHCp4MJi9XNWJLZCgZDZD\")\n",
    "placedata = json.loads(res.text)\n",
    "print (placedata)"
   ]
  },
  {
   "cell_type": "markdown",
   "metadata": {},
   "source": [
    "## ●  Facebook Place 資訊\n",
    "* 搜尋台北火車站(id=340032519386234)作為範例，其中台北火車站就是一個節點而回傳的name就是欄位。"
   ]
  },
  {
   "cell_type": "code",
   "execution_count": 41,
   "metadata": {},
   "outputs": [
    {
     "name": "stdout",
     "output_type": "stream",
     "text": [
      "{'name': 'Taipei Main Station 台北火車站', 'id': '340032519386234'}\n"
     ]
    }
   ],
   "source": [
    "import requests\n",
    "import json\n",
    "import csv\n",
    "res=requests.get(\"https://graph.facebook.com/v2.10/340032519386234?access_token=EAACEdEose0cBAD01krkO4fRq7hzG1ROOYWvkGUvF97YwZBZCcGNqhqsRsFH8qdgq9yR4BxXlkpiwLXiTNyEnhu0C9c67bMHTCwIPqDZAYIJRm2ZAFxzPSwM9tC1tqxs7cjy6qgVuRvLf95nSgZCOp5FNzMwPQFQTDnRyaPIdvIBHoiPKwFY6bdnZBVyAZAD8ZAqVncl54bJqEwZDZD\")\n",
    "placedata = json.loads(res.text)\n",
    "print (placedata)"
   ]
  },
  {
   "cell_type": "markdown",
   "metadata": {},
   "source": [
    "## ● Facebook 地點資訊的空間查詢 \n",
    "* 現在的社群媒體平台中大多都有打卡(Check-in)功能，因此在各平台中大多有豐富的地點資訊，而Facebook 在Graph API 中也有釋出能夠依據地理空間範圍作為查詢地點資訊的API。\n",
    "\n",
    "* 此API的查詢語法是\n",
    "https://graph.facebook.com/v2.9/search?type=place&center=\"+str(lat)+\",\"+str(lng)+\"&distance=\"+str(distance)+\"&fields=\"+str(fields)+\"&access_token=\"+token)\n",
    "* 透過上述語法，可以理解，此搜尋的方式就是GIS之中的buffer概念。其中幾個重要的元素 1.中心點經緯度 2.搜尋範圍(公尺) 3.想要獲得甚麼資訊? 4.token。\n",
    "\n"
   ]
  },
  {
   "cell_type": "markdown",
   "metadata": {},
   "source": [
    "## 以台大後門118巷作為範例"
   ]
  },
  {
   "cell_type": "markdown",
   "metadata": {},
   "source": [
    "* 如前所述，Facebook Place 搜尋是透過設定中心點的經緯度然後以在空間中進行圓形搜尋(Buffer)。但是以圓形進行搜尋，在空間中較難確定資料取的邊界，一般無法取得以矩形作為資料蒐尋空間範圍，因此以下是一個地理空間上進行幾何的計算，以透過設定重複且重疊圓形搜尋達到空間中矩形搜尋的成效(Facebook對於大量資料擷取有限制)。"
   ]
  },
  {
   "cell_type": "code",
   "execution_count": null,
   "metadata": {
    "collapsed": true
   },
   "outputs": [],
   "source": [
    "#設定搜尋半徑\n",
    "import math\n",
    "radius=200\n",
    "r=math.sqrt((radius**2)/2)\n",
    "r\n",
    "#給定空間範圍左上、左下、右下座標值\n",
    "lefup=[24.184761, 120.642457]\n",
    "lefdown=[24.174197, 120.643269]\n",
    "rightup=[24.184290, 120.647805]\n",
    "#在給定的座標範圍內，計算每一搜尋半徑200公尺的座標\n",
    "lefup_lat=lefup[0]\n",
    "lefdown_lat=lefdown[0]\n",
    "m_lat_1deg=110574\n",
    "dif_lat=1*(r/m_lat_1deg)\n",
    "coordinate={}\n",
    "temp_lat=lefup_lat\n",
    "print dif_lat\n",
    "while(temp_lat>lefdown_lat):\n",
    "    coordinate.setdefault(temp_lat,[])\n",
    "    temp_lat=temp_lat-dif_lat*2\n",
    "#將各個搜尋中心座標值存出為CSV檔\n",
    "coor_list=[[\"x\",\"y\"]]\n",
    "for lat in coordinate:\n",
    "    for lng in coordinate[lat]:\n",
    "        coor_list.append([lng,lat])\n",
    "f=open(\"center.csv\",\"w\")\n",
    "w = csv.writer(f) \n",
    "w.writerows(coor_list)\n",
    "f.close()\n",
    "for a in coordinate:\n",
    "    print len(coordinate[a]),\n",
    "#     print a,coordinate[a][0],coordinate[a][-1]\n",
    "print len(coordinate)"
   ]
  },
  {
   "cell_type": "markdown",
   "metadata": {},
   "source": [
    "## token\n",
    "* token 是API查詢最重要的關鍵，token的概念就是一中通關密碼，如果沒有這一串密碼，你就無法獲得API的資料，各社群媒體對於token時間限制或權限等各有不同，而Facebbok網頁上的存取token有效時間大約為 2 小時，也是有長期的token也大約是60天，但可以透過某些方式去進行token的更新。"
   ]
  },
  {
   "cell_type": "code",
   "execution_count": null,
   "metadata": {
    "collapsed": true
   },
   "outputs": [],
   "source": [
    "#F token\n",
    "token=\"EAACEdEose0cBALd3eoUBQmoBOgZBtwe7y0Ob4ZA6hxi91ZCMdCiQVmrNJ98K8TxYIoNVyVUjJOv1YJknsQn86SaV6cuyINASJ8ott7z1r156wJkev8yWNk3JXRqOumTGrjTh8Grpc5ZBKP5KnaZBlMftMcoTH9DXV7ZAjD2qYEgWDOuZAIHjXp20FDcfordeVsZD\""
   ]
  },
  {
   "cell_type": "markdown",
   "metadata": {
    "collapsed": true
   },
   "source": [
    "## 資料處理與存取\n",
    "*以下為透過上述的矩形搜尋，以獲得台大118巷周邊的地點資料，其中所包含的欄位，地點ID、名稱、住址、打卡數量、網站連結以及此地點所屬類別，使用json的格式將回傳之資料進行處理，回傳的資料可能會有多頁，我們可以把他想像成一本書，當資料有多筆時，一頁其中記錄了許多筆資料，而需要去翻閱各頁以去讀去資料，本次最終在透過csv進行資料處理與儲存。"
   ]
  },
  {
   "cell_type": "code",
   "execution_count": null,
   "metadata": {
    "collapsed": true
   },
   "outputs": [],
   "source": [
    "#主要使用的模組\n",
    "import requests\n",
    "import json\n",
    "import csv\n",
    "placeinfo_list=[[\"place_id\",\"name\",\"x\",\"y\",\"checkins\",\"street\",\"phone\",\"link\",\"category\",\"category_id\",]]\n",
    "for cor_lat in coordinate:\n",
    "    lat=cor_lat\n",
    "    for cor_lng in coordinate[cor_lat]:\n",
    "        lng=cor_lng\n",
    "        res=requests.get(\"https://graph.facebook.com/v2.9/search?type=place&center=\"+str(lat)+\",\"+str(lng)+\"&distance=\"+str(distance)+\"&fields=\"+str(fields)+\"&access_token=\"+token)\n",
    "        placedata = json.loads(res.text)\n",
    "        paging_count=0\n",
    "        place_count=0\n",
    "        while \"paging\" in placedata and 'next' in placedata['paging']:\n",
    "            paging_count+=1\n",
    "            place_count+=len(placedata['data'])\n",
    "            for p in placedata[\"data\"]:\n",
    "                place_id=p[\"id\"]\n",
    "                place_name=p[\"name\"].encode(\"utf8\")\n",
    "                x=p[\"location\"][\"longitude\"]\n",
    "                y=p[\"location\"][\"latitude\"]\n",
    "                checkins=p[\"checkins\"]\n",
    "                try:\n",
    "                    street=p[\"location\"][\"street\"].encode(\"utf8\")\n",
    "                except:\n",
    "                    street=\"\"\n",
    "                try:\n",
    "                    phone=p[\"phone\"].encode(\"utf8\")\n",
    "                except:\n",
    "                    phone=\"\"\n",
    "                try:\n",
    "                    link=p[\"link\"].encode(\"utf8\")\n",
    "                except:\n",
    "                    link=\"\"\n",
    "                try:\n",
    "                    category=[]\n",
    "                    category_id=[]\n",
    "                    for cat in p['category_list']:\n",
    "                        category.append(cat[\"name\"].encode(\"utf8\"))\n",
    "                        category_id.append(cat[\"id\"])\n",
    "                except:\n",
    "                    category=\"\"\n",
    "                placeinfo_list.append([place_id,place_name,x,y,checkins,street,phone,link,category,category_id])\n",
    "            n_ext=placedata['paging']['next']\n",
    "            res=requests.get(n_ext)\n",
    "            placedata = json.loads(res.text)\n",
    "#         print \"總頁數:\",paging_count,\n",
    "#         print \"Place 總數:\",place_count,\n",
    "        print lng,lat,place_count\n",
    "    time.sleep(120)\n",
    "    print\"------------------------------------------\"\n",
    "# f=open(str(lat)+\"_\"+str(lng)+\"places.csv\",\"w\")\n",
    "f=open(\"118fb_places.csv\",\"w\")\n",
    "w = csv.writer(f) \n",
    "w.writerows(placeinfo_list)\n",
    "f.close()   "
   ]
  }
 ],
 "metadata": {
  "kernelspec": {
   "display_name": "Python 3",
   "language": "python",
   "name": "python3"
  },
  "language_info": {
   "codemirror_mode": {
    "name": "ipython",
    "version": 3
   },
   "file_extension": ".py",
   "mimetype": "text/x-python",
   "name": "python",
   "nbconvert_exporter": "python",
   "pygments_lexer": "ipython3",
   "version": "3.6.1"
  }
 },
 "nbformat": 4,
 "nbformat_minor": 1
}
