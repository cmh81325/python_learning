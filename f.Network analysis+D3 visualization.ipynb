{
 "cells": [
  {
   "cell_type": "markdown",
   "metadata": {},
   "source": [
    "## ● 網絡分析 Ming Hsun\n",
    "## 資料來源:具有經緯度座標之Flickr打卡資料(2008-2014)\n",
    "## 目地:建立台南地區鄉鎮單元間 旅遊地的網絡分析圖"
   ]
  },
  {
   "cell_type": "code",
   "execution_count": 3,
   "metadata": {
    "collapsed": true
   },
   "outputs": [],
   "source": [
    "import shapefile\n",
    "import pyproj\n",
    "import pygmaps\n",
    "import math\n",
    "import time\n",
    "import cPickle as pickle\n",
    "import json"
   ]
  },
  {
   "cell_type": "markdown",
   "metadata": {},
   "source": [
    "### 讀取geodatabase 取得圖層"
   ]
  },
  {
   "cell_type": "code",
   "execution_count": 4,
   "metadata": {
    "collapsed": true
   },
   "outputs": [],
   "source": [
    "# standard imports\n",
    "import sys\n",
    "# import OGR\n",
    "from osgeo import ogr\n",
    "# use OGR specific exceptions\n",
    "ogr.UseExceptions()\n",
    "# get the driver\n",
    "driver = ogr.GetDriverByName(\"OpenFileGDB\")\n",
    "gdb = driver.Open(r\"F:\\Output.gdb\", 0)\n",
    "gdb\n",
    "layer = gdb.GetLayer(\"tainan_town\")\n",
    "# list to store layers'names\n",
    "featsClassList = []\n",
    "# parsing layers by index\n",
    "for featsClass_idx in range(gdb.GetLayerCount()):\n",
    "    featsClass = gdb.GetLayerByIndex(featsClass_idx)\n",
    "    featsClassList.append(featsClass.GetName())\n",
    "layerDefinition = layer.GetLayerDefn()"
   ]
  },
  {
   "cell_type": "markdown",
   "metadata": {},
   "source": [
    "### 了解圖層中欄位名稱"
   ]
  },
  {
   "cell_type": "code",
   "execution_count": 6,
   "metadata": {},
   "outputs": [
    {
     "name": "stdout",
     "output_type": "stream",
     "text": [
      "OBJECTID\n",
      "PhotoId\n",
      "UserId\n",
      "OwnerName\n",
      "Title\n",
      "Latitude\n",
      "Longitude\n",
      "DateTaken\n",
      "DateUpluad\n",
      "Descriptio\n",
      "Tags\n",
      "URL\n",
      "FID_1_1\n",
      "countyid\n",
      "countyname\n",
      "0M�\n",
      ";\b�\n",
      "[��\n",
      "townid\n",
      "towncode\n",
      "countyna_1\n",
      "townname\n",
      "node\n"
     ]
    }
   ],
   "source": [
    "for i in range(layerDefinition.GetFieldCount()):\n",
    "    print layerDefinition.GetFieldDefn(i).GetName()"
   ]
  },
  {
   "cell_type": "markdown",
   "metadata": {},
   "source": [
    "### 本次project所需欄位:\n",
    "### [UserId:使用者ID Latitude:緯度 Longitude:經度 DateTaken:拍攝時間 node:依據鄉鎮名稱進行編碼之號碼]\n",
    "### 原始資料範例:\"UserID:31559750@N02\"  \"Latitude:24.74588\" \"Longtitude:120.899911\" \"DataTaken:2014/7/6 下午 06:33:46\" \"node:12\"\n",
    "#### node:('七股':0,'下營':1,'大內':2,'山上':3,'中西':4,'仁德':5,'六甲':6,'北門':7,'左鎮':8,'永康':9,'玉井':10,'安平':11,'白河':12,'安定':13,'安南':14,'西港':15,'佳里':16,'官田':17,'東區':18,'南化':19,'南區':20,'後壁':21,'柳營':22,'將軍':23,'麻豆':24,'善化':25,'新化':26,'新市':27,'新營':28,'楠西':29,'學甲':30,'龍崎':31,'歸仁':32,'關廟':33,'鹽水':34,'北區':35,'東山':36)"
   ]
  },
  {
   "cell_type": "markdown",
   "metadata": {},
   "source": [
    "##*讀取資料並進行資料前處理:\n",
    "####1.將經緯度座標 轉換為 可計算之投影座標\n",
    "####2.將時間轉換為可計算之timestamp"
   ]
  },
  {
   "cell_type": "code",
   "execution_count": 13,
   "metadata": {},
   "outputs": [
    {
     "name": "stdout",
     "output_type": "stream",
     "text": [
      "\n"
     ]
    }
   ],
   "source": [
    "#prepare for the data \n",
    "prj = pyproj.Proj(init=\"epsg:3828\")##定義投影橢求體\n",
    "point_dict={}#checkdict\n",
    "point_list=[]#userID_list\n",
    "date_convert=[]\n",
    "pid_list=[]\n",
    "for feature in layer:\n",
    "    try:\n",
    "          if isinstance(feature.GetField(\"UserId\"), str):#確定User ID 為文字\n",
    "            split_=feature.GetField(\"DateTaken\").split(' ')  #將2014/2/19 上午 08:36:23依據 空白切割\n",
    "            split_D=split_[0].split('/') #將2014/2/19 依據'/'切割\n",
    "            split_T=split_[2].split(':') #將03:00:49 依據':'切割\n",
    "            split_D[1]=split_D[1].zfill(2)\n",
    "            split_D[2]=split_D[2].zfill(2)\n",
    "            D_s=split_D[0]+split_D[1]+split_D[2]\n",
    "            T_s=split_T[0]+split_T[1]+split_T[2]\n",
    "            x=\"{:.7f}\".format(float(feature.GetField(\"Longitude\")))\n",
    "            y=\"{:.7f}\".format(float(feature.GetField(\"Latitude\")))\n",
    "            photoPx, photoPy = prj(x,y, inverse=False)\n",
    "            ph_x=\"{:.7f}\".format(photoPx)\n",
    "            ph_y=\"{:.7f}\".format(photoPy)\n",
    "            ph_ID=feature.GetField(\"PhotoId\")\n",
    "            if split_[1]=='\\xe4\\xb8\\x8b\\xe5\\x8d\\x88': #如果是下午\n",
    "                split_T[0]=str(int(split_T[0])+12)  #如果是下午時就加上12小時 \n",
    "                #date_convert=str(feature.GetField(\"UserId\"))+split_D[0]+split_D[1]+split_D[2]+split_T[0]+split_T[1]+split_T[2]+','+str(ph_x)+str(ph_y)\n",
    "            time_tuple=(int(split_D[0]), int(split_D[1]), int(split_D[2]), int(split_T[0]), int(split_T[1]),int(split_T[2]), 0, 0, 0)\n",
    "            timestamp=time.mktime(time_tuple)    \n",
    "            #checklist=[timestamp,date_convert,D_s,T_s,x,y,ph_x,ph_y,ph_ID]\n",
    "#             checklist=[timestamp,D_s,T_s,x,y,ph_x,ph_y,ph_ID]\n",
    "            town_id=feature.GetField(\"node\")\n",
    "            checklist=[timestamp,D_s,T_s,x,y,ph_x,ph_y,town_id]\n",
    "            pid_list.append(ph_ID)\n",
    "    #       print checklist\n",
    "            #print photoPx,photoPy\n",
    "            if feature.GetField(\"UserId\") not in point_dict:\n",
    "                point_list.append([(feature.GetField(\"UserId\")),checklist])\n",
    "                point_dict.setdefault(feature.GetField(\"UserId\"),[checklist])\n",
    "            else:\n",
    "                point_list.append([(feature.GetField(\"UserId\")),checklist])\n",
    "                point_dict[feature.GetField(\"UserId\")].append(checklist)\n",
    "    except:\n",
    "        continue\n"
   ]
  },
  {
   "cell_type": "code",
   "execution_count": 17,
   "metadata": {},
   "outputs": [
    {
     "name": "stdout",
     "output_type": "stream",
     "text": [
      "資料總數: 594967 筆\n"
     ]
    }
   ],
   "source": [
    "print \"資料總數:\",len(point_list),\"筆\""
   ]
  },
  {
   "cell_type": "markdown",
   "metadata": {},
   "source": [
    "### *處理後資料 格式:\n",
    "#### [\"使用者id\",[\"可計算之時間\",\"原始日期\",\"原始時間\",\"經度\",\"緯度\",\"投影後經度\",\"投影後緯度\",\"所在鄉鎮編碼\"]]"
   ]
  },
  {
   "cell_type": "code",
   "execution_count": 18,
   "metadata": {},
   "outputs": [
    {
     "name": "stdout",
     "output_type": "stream",
     "text": [
      "['102069006@N07', [1419068598.0, '20141220', '054318', '120.0673970', '23.0422440', '154423.2197554', '2549274.2250152', 14]]\n",
      "['61038718@N03', [1356166451.0, '20121222', '045411', '120.0962730', '23.0290290', '157373.6852379', '2547792.1858338', 14]]\n",
      "['61038718@N03', [1352621620.0, '20121111', '041340', '120.0998560', '23.0271130', '157739.6371634', '2547577.7399433', 14]]\n",
      "['92326125@N00', [1242091269.0, '20090512', '092109', '120.0694500', '23.0453350', '154635.8084898', '2549615.1959529', 14]]\n",
      "['102069006@N07', [1420277244.0, '20150103', '052724', '120.0674550', '23.0420300', '154429.0131967', '2549250.4878923', 14]]\n"
     ]
    }
   ],
   "source": [
    "for aa in range(0,5):\n",
    "    print  point_list[aa]"
   ]
  },
  {
   "cell_type": "code",
   "execution_count": 19,
   "metadata": {},
   "outputs": [
    {
     "name": "stdout",
     "output_type": "stream",
     "text": [
      "同user同時同地的重複資料去除後 總數: 88921\n"
     ]
    }
   ],
   "source": [
    "#處理重複的點資料 (同時且同地視為一筆資料)\n",
    "unique=[]\n",
    "for dupli in point_list:\n",
    "    if dupli not in unique:\n",
    "        unique.append(dupli)\n",
    "print '同user同時同地的重複資料去除後 總數:',len(unique)"
   ]
  },
  {
   "cell_type": "code",
   "execution_count": 23,
   "metadata": {},
   "outputs": [
    {
     "name": "stdout",
     "output_type": "stream",
     "text": [
      "88921\n",
      "['61038718@N03', [1356166451.0, '20121222', '045411', '120.0962730', '23.0290290', '157373.6852379', '2547792.1858338', 14]]\n"
     ]
    }
   ],
   "source": [
    "#由於資料數量較多 資料存成pickle 方便後續使用\n",
    "# import cPickle as pickle\n",
    "# print len(unique)\n",
    "# print unique[1]\n",
    "# pickle.dump(unique, open('tainan_town.p', 'w'))"
   ]
  },
  {
   "cell_type": "markdown",
   "metadata": {},
   "source": [
    "### load pickle"
   ]
  },
  {
   "cell_type": "markdown",
   "metadata": {},
   "source": [
    "## *建立使用路徑dictionary\n",
    "### key:使用者id\n",
    "### value:使用者之所有打卡點位(並且依據時間先後進行排序)"
   ]
  },
  {
   "cell_type": "code",
   "execution_count": 20,
   "metadata": {
    "collapsed": true
   },
   "outputs": [],
   "source": [
    "Check_dict1={}\n",
    "for aa in unique:\n",
    "        if aa[0] not in Check_dict1:\n",
    "            Check_dict1.setdefault(aa[0],[aa[1]])\n",
    "        else:\n",
    "              Check_dict1[aa[0]].append(aa[1])\n",
    "#depending on the time for soring\n",
    "for sort in Check_dict1:\n",
    "    Check_dict1[sort].sort()"
   ]
  },
  {
   "cell_type": "code",
   "execution_count": 21,
   "metadata": {},
   "outputs": [
    {
     "name": "stdout",
     "output_type": "stream",
     "text": [
      "使用者總數: 2925\n"
     ]
    }
   ],
   "source": [
    "print \"使用者總數:\",len(Check_dict1)"
   ]
  },
  {
   "cell_type": "markdown",
   "metadata": {},
   "source": [
    "## *繪製網絡圖  link&node\n",
    "\n",
    "#### 依據格式:\n",
    "##### {\"nodes\": [{\"group\": 1, \"name\": \"鄉鎮名\"},...], \"links\": [{\"source\": 0, \"target\": 1, \"value\": 21}, ...]}"
   ]
  },
  {
   "cell_type": "markdown",
   "metadata": {},
   "source": [
    "### 每一個使用者各打卡點所形成的為打卡者之路徑\n",
    "### 本次為繪製網絡圖 因而將每個使用者打卡位置由時間前後 依據所在鄉鎮 化分成為pair\n",
    "## pair=[出發鄉鎮(from),抵達鄉鎮(to)]"
   ]
  },
  {
   "cell_type": "code",
   "execution_count": 55,
   "metadata": {},
   "outputs": [
    {
     "name": "stdout",
     "output_type": "stream",
     "text": [
      "pair example:\n",
      "[5, 4]\n",
      "[4, 5]\n",
      "[25, 25]\n",
      "[25, 25]\n",
      "[25, 25]\n",
      "[25, 25]\n",
      "[25, 25]\n",
      "[25, 25]\n",
      "[25, 25]\n",
      "[25, 25]\n",
      "[25, 25]\n",
      "[25, 25]\n",
      "[25, 25]\n",
      "[32, 32]\n",
      "[32, 32]\n",
      "[32, 32]\n",
      "[20, 4]\n",
      "[4, 4]\n",
      "[4, 20]\n",
      "[20, 20]\n"
     ]
    }
   ],
   "source": [
    "#打成pair\n",
    "pair=[]\n",
    "for user in Check_dict1:\n",
    "    f=0\n",
    "    t=1\n",
    "    for point in range(1,len(Check_dict1[user])):\n",
    "        pair.append([Check_dict1[user][f][-1],Check_dict1[user][t][-1]])\n",
    "        f=f+1\n",
    "        t=t+1\n",
    "print \"pair example:\"\n",
    "for p in range(0,20):\n",
    "    print pair[p]"
   ]
  },
  {
   "cell_type": "code",
   "execution_count": 45,
   "metadata": {},
   "outputs": [
    {
     "name": "stdout",
     "output_type": "stream",
     "text": [
      "總pair數: 85996\n"
     ]
    }
   ],
   "source": [
    "print \"總pair數:\",len(pair)"
   ]
  },
  {
   "cell_type": "markdown",
   "metadata": {},
   "source": [
    "### 然而透過觀察 了解有需多的pair 位在同一個鄉鎮之內並沒有跨鄉鎮\n",
    "### 為繪製各鄉鎮的網絡圖 因此只留下跨不同鄉鎮的 pair數"
   ]
  },
  {
   "cell_type": "code",
   "execution_count": 46,
   "metadata": {
    "collapsed": true
   },
   "outputs": [],
   "source": [
    "##移除位於同一鄉鎮中的pair\n",
    "pair_list=[]\n",
    "for net in pair:\n",
    "    if not net[0]==net[1]:\n",
    "        pair_list.append(net)"
   ]
  },
  {
   "cell_type": "code",
   "execution_count": 47,
   "metadata": {},
   "outputs": [
    {
     "name": "stdout",
     "output_type": "stream",
     "text": [
      "跨鄉鎮pair總數: 7307\n",
      "ex: [5, 4] [4, 5] [20, 4] [4, 20]\n"
     ]
    }
   ],
   "source": [
    "print \"跨鄉鎮pair總數:\",len(pair_list)\n",
    "print \"ex:\",pair_list[0],pair_list[1],pair_list[2],pair_list[3]"
   ]
  },
  {
   "cell_type": "markdown",
   "metadata": {},
   "source": [
    "## *完成link\n",
    "#### \"links\": [{\"source\": 0, \"target\": 1, \"value\": 21}, ...]}"
   ]
  },
  {
   "cell_type": "code",
   "execution_count": 38,
   "metadata": {
    "collapsed": true
   },
   "outputs": [],
   "source": [
    "link_dict={}\n",
    "a=1\n",
    "for l in pair_list:\n",
    "    if str(l) not in link_dict:\n",
    "        link_dict.setdefault(str(l),[l,1])\n",
    "    else:\n",
    "        link_dict[str(l)][-1]=link_dict[str(l)][-1]+1"
   ]
  },
  {
   "cell_type": "code",
   "execution_count": 39,
   "metadata": {
    "collapsed": true
   },
   "outputs": [],
   "source": [
    "links=[]\n",
    "for net in link_dict:\n",
    "    links.append({\"source\":link_dict[net][0][0], \"target\":link_dict[net][0][1], \"value\":link_dict[net][1]})"
   ]
  },
  {
   "cell_type": "code",
   "execution_count": 59,
   "metadata": {},
   "outputs": [
    {
     "name": "stdout",
     "output_type": "stream",
     "text": [
      "links example:\n",
      "{'source': 20, 'target': 6, 'value': 1}\n",
      "{'source': 24, 'target': 14, 'value': 5}\n",
      "{'source': 0, 'target': 36, 'value': 4}\n",
      "{'source': 24, 'target': 11, 'value': 7}\n",
      "{'source': 33, 'target': 34, 'value': 1}\n",
      "{'source': 5, 'target': 20, 'value': 10}\n",
      "{'source': 25, 'target': 35, 'value': 5}\n",
      "{'source': 24, 'target': 26, 'value': 4}\n",
      "{'source': 13, 'target': 17, 'value': 2}\n",
      "{'source': 34, 'target': 35, 'value': 2}\n",
      "{'source': 16, 'target': 30, 'value': 10}\n",
      "{'source': 9, 'target': 21, 'value': 7}\n",
      "{'source': 14, 'target': 5, 'value': 22}\n",
      "{'source': 8, 'target': 9, 'value': 4}\n",
      "{'source': 9, 'target': 35, 'value': 58}\n"
     ]
    }
   ],
   "source": [
    "print \"links example:\"\n",
    "for cc in range(0,15):\n",
    "    print links[cc]"
   ]
  },
  {
   "cell_type": "markdown",
   "metadata": {},
   "source": [
    "## *完成nodes\n",
    "#### {\"nodes\": [{\"group\": 1, \"name\": \"鄉鎮名\"},...]"
   ]
  },
  {
   "cell_type": "code",
   "execution_count": 48,
   "metadata": {
    "collapsed": true
   },
   "outputs": [],
   "source": [
    "#自行定義之鄉鎮node編碼\n",
    "town={'七股':0,'下營':1,'大內':2,'山上':3,'中西':4,'仁德':5,'六甲':6,'北門':7,'左鎮':8,'永康':9,'玉井':10,'安平':11,'白河':12,'安定':13\n",
    ",'安南':14,'西港':15,'佳里':16,'官田':17,'東區':18,'南化':19,'南區':20,'後壁':21,'柳營':22,'將軍':23,'麻豆':24,'善化':25,'新化':26,\n",
    "'新市':27,'新營':28,'楠西':29,'學甲':30,'龍崎':31,'歸仁':32,'關廟':33,'鹽水':34,'北區':35,'東山':36}\n"
   ]
  },
  {
   "cell_type": "code",
   "execution_count": 49,
   "metadata": {
    "collapsed": true
   },
   "outputs": [],
   "source": [
    "#完成node\n",
    "nodes=[]\n",
    "for t_name in  town :\n",
    "    nodes.append({'group':town[t_name], \"name\": t_name})"
   ]
  },
  {
   "cell_type": "code",
   "execution_count": 51,
   "metadata": {},
   "outputs": [
    {
     "name": "stdout",
     "output_type": "stream",
     "text": [
      "鄉鎮(node)總數: 37\n",
      "[{'group': 2, 'name': '\\xe5\\xa4\\xa7\\xe5\\x85\\xa7'}, {'group': 20, 'name': '\\xe5\\x8d\\x97\\xe5\\x8d\\x80'}, {'group': 9, 'name': '\\xe6\\xb0\\xb8\\xe5\\xba\\xb7'}, {'group': 27, 'name': '\\xe6\\x96\\xb0\\xe5\\xb8\\x82'}, {'group': 21, 'name': '\\xe5\\xbe\\x8c\\xe5\\xa3\\x81'}, {'group': 13, 'name': '\\xe5\\xae\\x89\\xe5\\xae\\x9a'}, {'group': 3, 'name': '\\xe5\\xb1\\xb1\\xe4\\xb8\\x8a'}, {'group': 12, 'name': '\\xe7\\x99\\xbd\\xe6\\xb2\\xb3'}, {'group': 7, 'name': '\\xe5\\x8c\\x97\\xe9\\x96\\x80'}, {'group': 25, 'name': '\\xe5\\x96\\x84\\xe5\\x8c\\x96'}, {'group': 26, 'name': '\\xe6\\x96\\xb0\\xe5\\x8c\\x96'}, {'group': 19, 'name': '\\xe5\\x8d\\x97\\xe5\\x8c\\x96'}, {'group': 15, 'name': '\\xe8\\xa5\\xbf\\xe6\\xb8\\xaf'}, {'group': 0, 'name': '\\xe4\\xb8\\x83\\xe8\\x82\\xa1'}, {'group': 34, 'name': '\\xe9\\xb9\\xbd\\xe6\\xb0\\xb4'}, {'group': 24, 'name': '\\xe9\\xba\\xbb\\xe8\\xb1\\x86'}, {'group': 17, 'name': '\\xe5\\xae\\x98\\xe7\\x94\\xb0'}, {'group': 32, 'name': '\\xe6\\xad\\xb8\\xe4\\xbb\\x81'}, {'group': 1, 'name': '\\xe4\\xb8\\x8b\\xe7\\x87\\x9f'}, {'group': 31, 'name': '\\xe9\\xbe\\x8d\\xe5\\xb4\\x8e'}, {'group': 8, 'name': '\\xe5\\xb7\\xa6\\xe9\\x8e\\xae'}, {'group': 6, 'name': '\\xe5\\x85\\xad\\xe7\\x94\\xb2'}, {'group': 14, 'name': '\\xe5\\xae\\x89\\xe5\\x8d\\x97'}, {'group': 33, 'name': '\\xe9\\x97\\x9c\\xe5\\xbb\\x9f'}, {'group': 23, 'name': '\\xe5\\xb0\\x87\\xe8\\xbb\\x8d'}, {'group': 4, 'name': '\\xe4\\xb8\\xad\\xe8\\xa5\\xbf'}, {'group': 29, 'name': '\\xe6\\xa5\\xa0\\xe8\\xa5\\xbf'}, {'group': 11, 'name': '\\xe5\\xae\\x89\\xe5\\xb9\\xb3'}, {'group': 36, 'name': '\\xe6\\x9d\\xb1\\xe5\\xb1\\xb1'}, {'group': 16, 'name': '\\xe4\\xbd\\xb3\\xe9\\x87\\x8c'}, {'group': 35, 'name': '\\xe5\\x8c\\x97\\xe5\\x8d\\x80'}, {'group': 10, 'name': '\\xe7\\x8e\\x89\\xe4\\xba\\x95'}, {'group': 28, 'name': '\\xe6\\x96\\xb0\\xe7\\x87\\x9f'}, {'group': 22, 'name': '\\xe6\\x9f\\xb3\\xe7\\x87\\x9f'}, {'group': 18, 'name': '\\xe6\\x9d\\xb1\\xe5\\x8d\\x80'}, {'group': 30, 'name': '\\xe5\\xad\\xb8\\xe7\\x94\\xb2'}, {'group': 5, 'name': '\\xe4\\xbb\\x81\\xe5\\xbe\\xb7'}]\n"
     ]
    }
   ],
   "source": [
    "print \"鄉鎮(node)總數:\",len(nodes)\n",
    "print nodes"
   ]
  },
  {
   "cell_type": "markdown",
   "metadata": {},
   "source": [
    "# *link&node匯出形成json檔"
   ]
  },
  {
   "cell_type": "code",
   "execution_count": 135,
   "metadata": {
    "collapsed": true
   },
   "outputs": [],
   "source": [
    "jsondata = {\"nodes\": nodes, \"links\": links}\n",
    "json.dump(jsondata, open('tainan_town_network.json', 'w'))"
   ]
  },
  {
   "cell_type": "code",
   "execution_count": null,
   "metadata": {
    "collapsed": true
   },
   "outputs": [],
   "source": [
    "##引入D3 繪製HTML結果 (可複製url看D3視覺化成果)\n",
    "http://www.minghsun.com/t_network_tainan.html"
   ]
  },
  {
   "cell_type": "code",
   "execution_count": 2,
   "metadata": {},
   "outputs": [
    {
     "data": {
      "text/html": [
       "<iframe src=http://www.minghsun.com/t_network_tainan.html width=1000 height=1000></iframe>"
      ],
      "text/plain": [
       "<IPython.core.display.HTML object>"
      ]
     },
     "execution_count": 2,
     "metadata": {},
     "output_type": "execute_result"
    }
   ],
   "source": [
    "from IPython.display import HTML\n",
    "HTML('<iframe src=http://www.minghsun.com/t_network_tainan.html width=1000 height=1000></iframe>')"
   ]
  }
 ],
 "metadata": {
  "kernelspec": {
   "display_name": "Python 3",
   "language": "python",
   "name": "python3"
  },
  "language_info": {
   "codemirror_mode": {
    "name": "ipython",
    "version": 3
   },
   "file_extension": ".py",
   "mimetype": "text/x-python",
   "name": "python",
   "nbconvert_exporter": "python",
   "pygments_lexer": "ipython3",
   "version": "3.6.1"
  }
 },
 "nbformat": 4,
 "nbformat_minor": 1
}
