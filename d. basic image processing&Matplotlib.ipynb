{
 "cells": [
  {
   "cell_type": "markdown",
   "metadata": {
    "collapsed": true
   },
   "source": [
    "# ●\tMatplotlib的基本影像處理 clustering MingHsun"
   ]
  },
  {
   "cell_type": "markdown",
   "metadata": {},
   "source": [
    "###  灰階"
   ]
  },
  {
   "cell_type": "code",
   "execution_count": 23,
   "metadata": {},
   "outputs": [
    {
     "name": "stdout",
     "output_type": "stream",
     "text": [
      "(360, 510, 3) <class 'numpy.ndarray'> uint8\n",
      "(360, 510)\n"
     ]
    }
   ],
   "source": [
    "import matplotlib.pyplot as plt,numpy as np,scipy.misc\n",
    "plt.close('all'); img=plt.imread('DTI.jpg')\n",
    "print(img.shape,type(img),img.dtype)\n",
    "plt.imshow(img); plt.figure()\n",
    "img2=np.mean(img,2); print(img2.shape)\n",
    "plt.imshow(img2,cmap=plt.cm.gray)\n",
    "scipy.misc.imsave('DTI_gray.jpg',img2)"
   ]
  },
  {
   "cell_type": "code",
   "execution_count": 24,
   "metadata": {
    "collapsed": true
   },
   "outputs": [],
   "source": [
    "import numpy as np,matplotlib.pyplot as plt\n",
    "img=[]\n",
    "img.append(np.float64(plt.imread('MRI1.jpg')))\n",
    "img.append(np.float64(plt.imread('MRI2.jpg')))\n",
    "img.append(img[1]-img[0]) #contrast\n",
    "for i in range(3):\n",
    "    plt.subplot(1,3,i+1); plt.axis('off')\n",
    "    plt.imshow(img[i],cmap=plt.cm.gray)"
   ]
  },
  {
   "cell_type": "markdown",
   "metadata": {},
   "source": [
    "### hybrid"
   ]
  },
  {
   "cell_type": "code",
   "execution_count": 25,
   "metadata": {
    "collapsed": true
   },
   "outputs": [],
   "source": [
    "import numpy as np,matplotlib.pyplot as plt\n",
    "plt.close('all'); img=[]\n",
    "img.append(plt.imread('face.jpg')) # for FFA\n",
    "img.append(plt.imread('house.jpg')) # for PPA\n",
    "k=np.arange(1,10,2)/10.0\n",
    "for i in range(5):\n",
    "    plt.subplot(1,5,i+1);plt.axis('off')\n",
    "    hybrid=k[i]*img[0]+(1-k[i])*img[1]\n",
    "    plt.imshow(hybrid/255.0)"
   ]
  }
 ],
 "metadata": {
  "kernelspec": {
   "display_name": "Python 3",
   "language": "python",
   "name": "python3"
  },
  "language_info": {
   "codemirror_mode": {
    "name": "ipython",
    "version": 3
   },
   "file_extension": ".py",
   "mimetype": "text/x-python",
   "name": "python",
   "nbconvert_exporter": "python",
   "pygments_lexer": "ipython3",
   "version": "3.6.1"
  }
 },
 "nbformat": 4,
 "nbformat_minor": 2
}
