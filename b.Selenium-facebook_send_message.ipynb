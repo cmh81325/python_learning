{
 "cells": [
  {
   "cell_type": "markdown",
   "metadata": {},
   "source": [
    "## ● 使用selenium模擬瀏覽器  MingHsun 2017/03/06\n",
    "\n",
    "### 開啟Facebook並傳送訊息給好友\n"
   ]
  },
  {
   "cell_type": "code",
   "execution_count": 6,
   "metadata": {
    "collapsed": true
   },
   "outputs": [],
   "source": [
    "# Python script to log in to facebook and post birthday messages to friends on birthdays!!\n",
    "from selenium import webdriver\n",
    "from selenium.webdriver.support import ui\n",
    "from selenium.webdriver.common.keys import Keys\n",
    "import getpass\n",
    "import time\n",
    " \n",
    "def page_loaded(driver):\n",
    "    return driver.find_element_by_tag_name(\"body\") != None"
   ]
  },
  {
   "cell_type": "code",
   "execution_count": 8,
   "metadata": {},
   "outputs": [
    {
     "name": "stdout",
     "output_type": "stream",
     "text": [
      "Logging Details for Facebook:\n",
      "\n",
      "Enter Username: mh81325@hotmail.com\n",
      "········\n"
     ]
    }
   ],
   "source": [
    "print(\"Logging Details for Facebook:\\n\")\n",
    "input_email_id = input(\"Enter Username: \")\n",
    "input_pwd = getpass.getpass()"
   ]
  },
  {
   "cell_type": "code",
   "execution_count": 11,
   "metadata": {
    "collapsed": true
   },
   "outputs": [],
   "source": [
    "from selenium import webdriver \n",
    "\n",
    "driver = webdriver.Firefox(executable_path = 'C:\\Program Files (x86)\\Mozilla Firefox\\geckodriver')\n",
    "driver.get(\"https://www.facebook.com/\")\n",
    "wait = ui.WebDriverWait(driver, 10)\n",
    "wait.until(page_loaded)\n",
    "# Finding email and password fields and sending the keys\n",
    "email = driver.find_element_by_id(\"email\")\n",
    "email.send_keys(input_email_id)\n",
    "pwd = driver.find_element_by_id(\"pass\")\n",
    "pwd.send_keys(input_pwd)\n",
    "pwd.send_keys(Keys.RETURN)\n",
    "time.sleep(5)"
   ]
  },
  {
   "cell_type": "markdown",
   "metadata": {},
   "source": [
    "## User name"
   ]
  },
  {
   "cell_type": "code",
   "execution_count": 107,
   "metadata": {
    "collapsed": true
   },
   "outputs": [],
   "source": [
    "driver.get(\"https://www.facebook.com/kjc556640\")"
   ]
  },
  {
   "cell_type": "code",
   "execution_count": 81,
   "metadata": {
    "collapsed": true
   },
   "outputs": [],
   "source": [
    "# 文字\n",
    "driver.find_element_by_id(\"u_0_w\").click()\n",
    "# driver.find_element_by_class_name(\"_1p1v\").send_keys(\"Hello there how are you!\")\n",
    "driver.find_element_by_class_name(\"_5rpb\").send_keys(\"Hello there how are you!\")\n",
    "driver.find_element_by_class_name(\"_5rpb\").send_keys(Keys.ENTER)"
   ]
  },
  {
   "cell_type": "markdown",
   "metadata": {},
   "source": [
    "## User ID"
   ]
  },
  {
   "cell_type": "code",
   "execution_count": 141,
   "metadata": {
    "collapsed": true
   },
   "outputs": [],
   "source": [
    "driver.get(\"https://www.facebook.com/100002360589222\")"
   ]
  },
  {
   "cell_type": "code",
   "execution_count": 120,
   "metadata": {
    "collapsed": true
   },
   "outputs": [],
   "source": [
    "# 文字\n",
    "driver.find_element_by_id(\"u_0_v\").click()\n",
    "driver.find_element_by_class_name(\"_5rpb\").send_keys(u'程式自動控制fb 傳訊息 很好玩 ㄏㄏ')\n",
    "driver.find_element_by_class_name(\"_5rpb\").send_keys(Keys.ENTER)"
   ]
  }
 ],
 "metadata": {
  "kernelspec": {
   "display_name": "Python 3",
   "language": "python",
   "name": "python3"
  },
  "language_info": {
   "codemirror_mode": {
    "name": "ipython",
    "version": 3
   },
   "file_extension": ".py",
   "mimetype": "text/x-python",
   "name": "python",
   "nbconvert_exporter": "python",
   "pygments_lexer": "ipython3",
   "version": "3.6.1"
  }
 },
 "nbformat": 4,
 "nbformat_minor": 1
}
