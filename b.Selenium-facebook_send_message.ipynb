{
 "cells": [
  {
   "cell_type": "markdown",
   "metadata": {},
   "source": [
    "## ● 使用selenium模擬瀏覽器  MingHsun 2017/06/06\n",
    "* Selenium是一個非常有用的套件，Selenium是化學原素中的\"硒\"，我對於此套件的概念就是，碰到非靜態網頁而無法抓取資料的時候就需要使用Selenium，Selenium所以就\"硒\"一樣，有一點毒性，有一點強度的破壞性，其主要的功能就是模擬瀏覽器的運作，而其中操控的元素，就是HTML架構中的標籤元素，透過標籤元素而實現模擬瀏覽器。\n"
   ]
  },
  {
   "cell_type": "markdown",
   "metadata": {},
   "source": [
    "## 實作-Selenium自動開啟Facebook並傳送訊息給好友\n",
    "* 流程與步驟\n",
    "> 1. 輸入Facebook帳號密碼<br>\n",
    "  2. 用Firefox瀏覽器開啟Facebook並且自動登入<br>\n",
    "  3. 開啟Facebook朋友個人網頁<br>\n",
    "  4. 點選傳送訊息開起私人訊息對話框<br>\n",
    "  5. 輸入訊息並且按Enter傳送"
   ]
  },
  {
   "cell_type": "code",
   "execution_count": 3,
   "metadata": {
    "collapsed": true
   },
   "outputs": [],
   "source": [
    "from selenium import webdriver\n",
    "from selenium.webdriver.support import ui\n",
    "from selenium.webdriver.common.keys import Keys\n",
    "import getpass\n",
    "import time\n",
    " \n",
    "def page_loaded(driver):\n",
    "    return driver.find_element_by_tag_name(\"body\") != None"
   ]
  },
  {
   "cell_type": "markdown",
   "metadata": {},
   "source": [
    "### 1. 輸入Facebook帳號密碼"
   ]
  },
  {
   "cell_type": "code",
   "execution_count": 8,
   "metadata": {},
   "outputs": [
    {
     "name": "stdout",
     "output_type": "stream",
     "text": [
      "Logging Details for Facebook:\n",
      "\n",
      "Enter Username: mh81325@hotmail.com\n",
      "········\n"
     ]
    }
   ],
   "source": [
    "print(\"Logging Details for Facebook:\\n\")\n",
    "input_email_id = input(\"Enter Username: \")\n",
    "input_pwd = getpass.getpass()"
   ]
  },
  {
   "cell_type": "markdown",
   "metadata": {},
   "source": [
    "### 2. 用Firefox瀏覽器開啟Facebook並且自動登入"
   ]
  },
  {
   "cell_type": "code",
   "execution_count": null,
   "metadata": {
    "collapsed": true
   },
   "outputs": [],
   "source": [
    "from selenium import webdriver \n",
    "\n",
    "driver = webdriver.Firefox(executable_path = 'C:\\Program Files (x86)\\Mozilla Firefox\\geckodriver')\n",
    "driver.get(\"https://www.facebook.com/\")\n",
    "wait = ui.WebDriverWait(driver, 10)\n",
    "wait.until(page_loaded)\n",
    "# Finding email and password fields and sending the keys\n",
    "email = driver.find_element_by_id(\"email\")\n",
    "email.send_keys(input_email_id)\n",
    "pwd = driver.find_element_by_id(\"pass\")\n",
    "pwd.send_keys(input_pwd)\n",
    "pwd.send_keys(Keys.RETURN)\n",
    "time.sleep(5)"
   ]
  },
  {
   "cell_type": "markdown",
   "metadata": {},
   "source": [
    "### 3.開啟朋友Faceook專頁傳送私訊\n",
    "* 到目前為止我們已經登入了Facebook\n",
    "* 接下來要觀察網頁原始碼<br>\n",
    "* Facebook 可以讓使用者自己取一個代碼，設定個人臉書的短網址，因此要對不同的類型取的不同的HTML元素，以下為兩種類型的範例\n",
    "* (以我個人朋友做為範例)"
   ]
  },
  {
   "cell_type": "markdown",
   "metadata": {},
   "source": [
    "###  User name 有設定個人臉書短網址名稱"
   ]
  },
  {
   "cell_type": "code",
   "execution_count": 2,
   "metadata": {},
   "outputs": [],
   "source": [
    "#開啟朋友Facebook個人網頁(ussername)\n",
    "driver.get(\"https://www.facebook.com/kjc556640\")\n",
    "# 點選傳送訊息開起私人訊息對話框\n",
    "driver.find_element_by_id(\"u_0_w\").click()\n",
    "#輸入訊息並且按Enter傳送\n",
    "# driver.find_element_by_class_name(\"_1p1v\").send_keys(\"Hello there how are you!\")\n",
    "driver.find_element_by_class_name(\"_5rpb\").send_keys(\"Hello there how are you!\")\n",
    "driver.find_element_by_class_name(\"_5rpb\").send_keys(Keys.ENTER)"
   ]
  },
  {
   "cell_type": "markdown",
   "metadata": {},
   "source": [
    "### User ID 沒有設定個人臉書短網址，就是原始的Facebook ID"
   ]
  },
  {
   "cell_type": "code",
   "execution_count": 4,
   "metadata": {},
   "outputs": [],
   "source": [
    "#開啟朋友Facebook個人網頁(id)\n",
    "driver.get(\"https://www.facebook.com/100002360589222\")\n",
    "# 點選傳送訊息開起私人訊息對話框\n",
    "driver.find_element_by_id(\"u_0_v\").click()\n",
    "#輸入訊息並且按Enter傳送\n",
    "driver.find_element_by_class_name(\"_5rpb\").send_keys(u'程式自動控制fb 傳訊息 很好玩')\n",
    "driver.find_element_by_class_name(\"_5rpb\").send_keys(Keys.ENTER)"
   ]
  }
 ],
 "metadata": {
  "kernelspec": {
   "display_name": "Python 3",
   "language": "python",
   "name": "python3"
  },
  "language_info": {
   "codemirror_mode": {
    "name": "ipython",
    "version": 3
   },
   "file_extension": ".py",
   "mimetype": "text/x-python",
   "name": "python",
   "nbconvert_exporter": "python",
   "pygments_lexer": "ipython3",
   "version": "3.6.1"
  }
 },
 "nbformat": 4,
 "nbformat_minor": 1
}
